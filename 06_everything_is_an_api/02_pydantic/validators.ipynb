{
 "cells": [
  {
   "cell_type": "code",
   "execution_count": null,
   "metadata": {},
   "outputs": [],
   "source": [
    "from datetime import datetime\n",
    "from typing import Tuple\n",
    "\n",
    "from pydantic import BaseModel\n",
    "\n",
    "\n",
    "class Delivery(BaseModel):\n",
    "    timestamp: datetime\n",
    "    dimensions: Tuple[int, int]\n",
    "\n",
    "\n",
    "m = Delivery(timestamp='2020-01-02T03:04:05Z', dimensions=[10, '20'])\n",
    "print(repr(m.timestamp))\n",
    "#> datetime.datetime(2020, 1, 2, 3, 4, 5, tzinfo=TzInfo(UTC))\n",
    "print(m.dimensions)\n",
    "#> (10, 20)\n"
   ]
  },
  {
   "cell_type": "code",
   "execution_count": null,
   "metadata": {},
   "outputs": [],
   "source": [
    "from typing import Any, List\n",
    "\n",
    "from typing_extensions import Annotated\n",
    "\n",
    "from pydantic import BaseModel, ValidationError\n",
    "from pydantic.functional_validators import AfterValidator\n",
    "\n",
    "\n",
    "def check_squares(v: int) -> int: #This function check the is the perfect square if its not then it will raise error\n",
    "    assert v**0.5 % 1 == 0, f'{v} is not a square number' \n",
    "    return v\n",
    "\n",
    "\n",
    "def double(v: Any) -> Any: #this fuction double the value of square\n",
    "    return v * 2\n",
    "\n",
    "\n",
    "MyNumber = Annotated[int, AfterValidator(double), AfterValidator(check_squares)]\n",
    "\"\"\"The MyNumber type is defined using Annotated. It represents an integer with two validators:\n",
    "AfterValidator(double): Ensures that the value is doubled.\n",
    "AfterValidator(check_squares): Ensures that the value is a perfect square.\"\"\"\n",
    "\n",
    "class DemoModel(BaseModel):\n",
    "    number: List[MyNumber]\n",
    "\n",
    "\n",
    "print(DemoModel(number=[2, 8]))\n",
    "#> number=[4, 16]\n",
    "try:\n",
    "    DemoModel(number=[2, 4])\n",
    "except ValidationError as e:\n",
    "    print(e)\n",
    "    \"\"\"\n",
    "    1 validation error for DemoModel\n",
    "    number.1\n",
    "      Assertion failed, 8 is not a square number\n",
    "    assert ((8 ** 0.5) % 1) == 0 [type=assertion_error, input_value=4, input_type=int]\n",
    "    \"\"\"\n"
   ]
  },
  {
   "cell_type": "code",
   "execution_count": null,
   "metadata": {},
   "outputs": [],
   "source": [
    "from pydantic import BaseModel, Field\n",
    "\n",
    "class Blog(BaseModel):\n",
    "    title: str = Field(...,min_length=5)\n",
    "    is_active: bool\n",
    "\n",
    "Blog(title=\"hi\",is_active=False)"
   ]
  },
  {
   "cell_type": "code",
   "execution_count": null,
   "metadata": {},
   "outputs": [],
   "source": []
  }
 ],
 "metadata": {
  "kernelspec": {
   "display_name": "pythongenai",
   "language": "python",
   "name": "python3"
  },
  "language_info": {
   "name": "python",
   "version": "3.12.0"
  }
 },
 "nbformat": 4,
 "nbformat_minor": 2
}
