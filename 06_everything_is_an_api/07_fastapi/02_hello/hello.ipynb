{
 "cells": [
  {
   "cell_type": "code",
   "execution_count": 1,
   "metadata": {},
   "outputs": [
    {
     "name": "stderr",
     "output_type": "stream",
     "text": [
      "INFO:     Will watch for changes in these directories: ['c:\\\\D Drive\\\\Python code\\\\Gen AI\\\\06_everything_is_an_api\\\\07_fastapi\\\\02_hello']\n",
      "INFO:     Uvicorn running on http://127.0.0.1:8000 (Press CTRL+C to quit)\n",
      "INFO:     Started reloader process [18596] using WatchFiles\n"
     ]
    }
   ],
   "source": [
    "from fastapi import FastAPI\n",
    "\n",
    "\n",
    "app : FastAPI = FastAPI()\n",
    "\n",
    "@app.get(\"/\")\n",
    "def index() -> str:\n",
    "    return {\"Pakistan zinda bad\" :\" 123 , abc\"}\n",
    "\n",
    "if __name__ == \"__main__\": \n",
    "    import uvicorn\n",
    "    uvicorn.run(\"hello:app\", reload=True)"
   ]
  },
  {
   "cell_type": "code",
   "execution_count": 2,
   "metadata": {},
   "outputs": [
    {
     "name": "stderr",
     "output_type": "stream",
     "text": [
      "INFO:     Will watch for changes in these directories: ['c:\\\\D Drive\\\\Python code\\\\Gen AI\\\\06_everything_is_an_api\\\\07_fastapi\\\\02_hello']\n",
      "INFO:     Uvicorn running on http://127.0.0.1:8000 (Press CTRL+C to quit)\n",
      "INFO:     Started reloader process [4648] using StatReload\n"
     ]
    }
   ],
   "source": [
    "from fastapi import FastAPI\n",
    "\n",
    "app : FastAPI = FastAPI()\n",
    "\n",
    "@app.get(\"/hi\") \n",
    "def greet():\n",
    "    return \"Hello? World?\"\n",
    "\n",
    "@app.get(\"/hi/{name}\")\n",
    "def greet_with_name(name: str):\n",
    "    return \"Hello? World, \" + name\n",
    "\n",
    "# print(__name__)\n",
    "\n",
    "if __name__ == \"__main__\": \n",
    "    import uvicorn\n",
    "    uvicorn.run(\"hello1:app\", reload=True)"
   ]
  },
  {
   "cell_type": "code",
   "execution_count": null,
   "metadata": {},
   "outputs": [],
   "source": []
  }
 ],
 "metadata": {
  "kernelspec": {
   "display_name": "myfastapienv",
   "language": "python",
   "name": "python3"
  },
  "language_info": {
   "codemirror_mode": {
    "name": "ipython",
    "version": 3
   },
   "file_extension": ".py",
   "mimetype": "text/x-python",
   "name": "python",
   "nbconvert_exporter": "python",
   "pygments_lexer": "ipython3",
   "version": "3.11.5"
  }
 },
 "nbformat": 4,
 "nbformat_minor": 2
}
