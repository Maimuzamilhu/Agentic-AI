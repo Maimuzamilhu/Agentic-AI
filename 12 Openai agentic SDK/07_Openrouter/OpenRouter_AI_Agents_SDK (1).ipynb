{
  "cells": [
    {
      "cell_type": "markdown",
      "metadata": {
        "id": "o92NPvIPpmCv"
      },
      "source": [
        "# Use OpenRouter With OpenAI Agents SDK"
      ]
    },
    {
      "cell_type": "markdown",
      "metadata": {
        "id": "l5oT3E8gqY_O"
      },
      "source": [
        "Setup Prerequisite:\n",
        "\n",
        "1. [Signup at OpenRouter](https://openrouter.ai/)\n",
        "2. [Create an API Key](https://openrouter.ai/settings/keys)\n",
        "2. Select a Free Model (you can continue as we are using a free model here)"
      ]
    },
    {
      "cell_type": "markdown",
      "metadata": {
        "id": "-Zh5JPz1qLbD"
      },
      "source": [
        "## Free and Paid Models"
      ]
    },
    {
      "cell_type": "markdown",
      "metadata": {
        "id": "3NksiafzqSg7"
      },
      "source": [
        "The OpenRouter supports the latest DeepSeek V3 0324 and 50+ other models for free. Most of them support the defacto standard: OpenAI Chat Completion API.\n",
        "\n",
        "\n",
        "If you are using a free model variant (with an ID ending in :free), then you will be limited to 20 requests per minute and 200 requests per day.\n",
        "\n",
        "**See all Models List: https://openrouter.ai/models**\n",
        "\n",
        "Note: OpenRouter do not charge anything extra at inference time."
      ]
    },
    {
      "cell_type": "markdown",
      "metadata": {
        "id": "Krf3ozmkpsVs"
      },
      "source": [
        "## Rate Limiting and Crediting"
      ]
    },
    {
      "cell_type": "markdown",
      "metadata": {
        "id": "WhcFykdIqKI4"
      },
      "source": [
        "There are a few rate limits that apply to certain types of requests, regardless of account status:\n",
        "\n",
        "- Free limit: If you are using a free model variant (with an ID ending in :free), then you will be limited to 20 requests per minute and 200 requests per day.\n",
        "\n",
        "If your account has a negative credit balance, you may see 402 errors, including for free models. Adding credits to put your balance above zero allows you to use those models again.\n",
        "\n",
        "[Reference](https://openrouter.ai/docs/api-reference/limits)"
      ]
    },
    {
      "cell_type": "markdown",
      "metadata": {
        "id": "GqX_s5idrryf"
      },
      "source": [
        "## Install OpenAI Agents Dep."
      ]
    },
    {
      "cell_type": "code",
      "execution_count": 1,
      "metadata": {
        "id": "7teAe2rONlBe",
        "colab": {
          "base_uri": "https://localhost:8080/"
        },
        "outputId": "caebd657-356c-42a4-c474-380744740615"
      },
      "outputs": [
        {
          "output_type": "stream",
          "name": "stdout",
          "text": [
            "\u001b[?25l   \u001b[90m━━━━━━━━━━━━━━━━━━━━━━━━━━━━━━━━━━━━━━━━\u001b[0m \u001b[32m0.0/116.8 kB\u001b[0m \u001b[31m?\u001b[0m eta \u001b[36m-:--:--\u001b[0m\r\u001b[2K   \u001b[90m━━━━━━━━━━━━━━━━━━━━━━━━━━━━━━━━━━━━━━━━\u001b[0m \u001b[32m116.8/116.8 kB\u001b[0m \u001b[31m6.4 MB/s\u001b[0m eta \u001b[36m0:00:00\u001b[0m\n",
            "\u001b[?25h\u001b[?25l   \u001b[90m━━━━━━━━━━━━━━━━━━━━━━━━━━━━━━━━━━━━━━━━\u001b[0m \u001b[32m0.0/129.3 kB\u001b[0m \u001b[31m?\u001b[0m eta \u001b[36m-:--:--\u001b[0m\r\u001b[2K   \u001b[90m━━━━━━━━━━━━━━━━━━━━━━━━━━━━━━━━━━━━━━━━\u001b[0m \u001b[32m129.3/129.3 kB\u001b[0m \u001b[31m9.5 MB/s\u001b[0m eta \u001b[36m0:00:00\u001b[0m\n",
            "\u001b[2K   \u001b[90m━━━━━━━━━━━━━━━━━━━━━━━━━━━━━━━━━━━━━━━━\u001b[0m \u001b[32m76.1/76.1 kB\u001b[0m \u001b[31m5.0 MB/s\u001b[0m eta \u001b[36m0:00:00\u001b[0m\n",
            "\u001b[2K   \u001b[90m━━━━━━━━━━━━━━━━━━━━━━━━━━━━━━━━━━━━━━━━\u001b[0m \u001b[32m44.4/44.4 kB\u001b[0m \u001b[31m2.0 MB/s\u001b[0m eta \u001b[36m0:00:00\u001b[0m\n",
            "\u001b[2K   \u001b[90m━━━━━━━━━━━━━━━━━━━━━━━━━━━━━━━━━━━━━━━━\u001b[0m \u001b[32m72.0/72.0 kB\u001b[0m \u001b[31m3.9 MB/s\u001b[0m eta \u001b[36m0:00:00\u001b[0m\n",
            "\u001b[2K   \u001b[90m━━━━━━━━━━━━━━━━━━━━━━━━━━━━━━━━━━━━━━━━\u001b[0m \u001b[32m62.5/62.5 kB\u001b[0m \u001b[31m819.2 kB/s\u001b[0m eta \u001b[36m0:00:00\u001b[0m\n",
            "\u001b[?25h"
          ]
        }
      ],
      "source": [
        "!pip install -Uq openai-agents"
      ]
    },
    {
      "cell_type": "code",
      "execution_count": 2,
      "metadata": {
        "id": "z3_PWpn4OIyT"
      },
      "outputs": [],
      "source": [
        "import nest_asyncio\n",
        "nest_asyncio.apply()"
      ]
    },
    {
      "cell_type": "markdown",
      "metadata": {
        "id": "ZTOibVJuN_pi"
      },
      "source": [
        "## Provider Config"
      ]
    },
    {
      "cell_type": "code",
      "execution_count": 4,
      "metadata": {
        "id": "zvmgohqY0-Wm"
      },
      "outputs": [],
      "source": [
        "from google.colab import userdata\n",
        "\n",
        "OPENROUTER_API_KEY = userdata.get(\"OPENROUTER_API_KEY\")"
      ]
    },
    {
      "cell_type": "code",
      "execution_count": 7,
      "metadata": {
        "id": "DeTqCZKGlVk_"
      },
      "outputs": [],
      "source": [
        "#Reference: https://openrouter.ai/docs/quickstart\n",
        "\n",
        "BASE_URL = \"https://openrouter.ai/api/v1\"\n",
        "MODEL = \"qwen/qwen3-30b-a3b:free\"\n",
        "\n",
        "# Some other free models on 26th March:\n",
        "# https://openrouter.ai/deepseek/deepseek-chat-v3-0324:free\n",
        "# https://openrouter.ai/google/gemini-2.5-pro-exp-03-25:free"
      ]
    },
    {
      "cell_type": "markdown",
      "metadata": {
        "id": "IyWF4XNPtI7f"
      },
      "source": [
        "## 1. Using the OpenRouter API directly"
      ]
    },
    {
      "cell_type": "code",
      "execution_count": 8,
      "metadata": {
        "colab": {
          "base_uri": "https://localhost:8080/"
        },
        "id": "e0if6eGutM9h",
        "outputId": "6cab617e-68eb-433e-96ff-862e50004924"
      },
      "outputs": [
        {
          "output_type": "stream",
          "name": "stdout",
          "text": [
            "{'id': 'gen-1745957654-INauGZlJC8kDFWbbYvPE', 'provider': 'Chutes', 'model': 'qwen/qwen3-30b-a3b:free', 'object': 'chat.completion', 'created': 1745957654, 'choices': [{'logprobs': None, 'finish_reason': 'stop', 'native_finish_reason': 'stop', 'index': 0, 'message': {'role': 'assistant', 'content': 'The question of the meaning of life is one of the most profound and enduring inquiries in human history, and it has no single, universally accepted answer. Different perspectives—philosophical, religious, scientific, and personal—offer varied interpretations. Here are some key approaches to consider:\\n\\n### 1. **Philosophical Perspectives**  \\n   - **Existentialism**: Thinkers like Jean-Paul Sartre and Albert Camus argue that life has no inherent meaning, and it is up to individuals to create their own purpose through choices, actions, and commitments.  \\n   - **Absurdism**: Camus suggests that while life may be inherently meaningless, we can find freedom and authenticity by embracing the \"absurd\" (the clash between humanity\\'s search for meaning and the universe\\'s silence).  \\n   - **Stoicism**: Focuses on living virtuously, cultivating inner tranquility, and aligning with nature or reason.  \\n   - **Nihilism**: Proposes that life has no intrinsic meaning, though some interpretations encourage finding personal value despite this.\\n\\n### 2. **Religious and Spiritual Views**  \\n   - Many faiths (e.g., Christianity, Islam, Buddhism, Hinduism) posit that life\\'s purpose is tied to a higher power, spiritual growth, or liberation from suffering. For example:  \\n     - **Christianity**: To love God and others, and seek salvation.  \\n     - **Buddhism**: To attain enlightenment (nirvana) and escape the cycle of suffering (samsara).  \\n     - **Hinduism**: To fulfill dharma (duty), pursue spiritual liberation (moksha), or connect with the divine.  \\n   - **Pantheism or Mysticism**: Views life as an expression of a universal consciousness or divine unity.\\n\\n### 3. **Scientific and Biological Perspectives**  \\n   - From an evolutionary standpoint, life\\'s \"purpose\" might be seen as survival, reproduction, and the continuation of genetic material. However, this is often criticized as reducing existence to mechanistic processes, neglecting subjective experiences.  \\n   - **Cosmic Perspective**: Some scientists (e.g., Carl Sagan) emphasize that while the universe may be indifferent, human consciousness allows us to seek meaning, create art, and explore the cosmos.\\n\\n### 4. **Humanistic and Psychological Approaches**  \\n   - **Viktor Frankl\\'s Logotherapy**: Suggests that finding meaning in suffering or personal responsibility is key to living a fulfilling life.  \\n   - **Positive Psychology**: Focuses on well-being, relationships, gratitude, and pursuing passions.  \\n   - **Individualism**: Many believe meaning arises from personal goals, creativity, relationships, or contributing to others.\\n\\n### 5. **Cultural and Personal Views**  \\n   - Meanings can be shaped by cultural values, family, traditions, or personal experiences. For some, it might be family, for others, adventure, knowledge, or art.  \\n   - **The \"Search for Meaning\"**: Many people find purpose in seeking answers, questioning, and evolving over time.\\n\\n### 6. **The Absence of a Universal Answer**  \\n   - Some argue that the question itself is a human construct, and that meaning is not something to be \"found\" but something to be *created* through how we live and connect with the world.  \\n\\nUltimately, the meaning of life may not be a destination but a journey—one shaped by curiosity, connection, and the choices we make. As the poet Rilke wrote, *\"Life is not a problem to be solved, but a reality to be experienced.\"* What matters most is how you choose to engage with it.', 'refusal': None, 'reasoning': \"Okay, the user is asking about the meaning of life. That's a big question. First, I should consider different perspectives because there's no single answer. Maybe start with philosophical viewpoints. Existentialism comes to mind, like Sartre or Camus, where the meaning is something we create ourselves. Then there's religious or spiritual angles, like the purpose being to serve a higher power or achieve enlightenment.\\n\\nI should also think about scientific perspectives. From a biological standpoint, it's about survival and reproduction. But that might not satisfy someone looking for a deeper purpose. Then there's the humanistic view, focusing on personal growth and fulfillment.\\n\\nI need to mention that it's subjective and varies per individual. Maybe list different approaches without favoring one. Also, note that some people find meaning in relationships, others in work, creativity, or helping others. It's important to highlight that it's a personal journey and there's no universal answer. Avoid making it too technical, keep it accessible. Check if there's any cultural context I should consider, but since the question is general, stick to broad categories. Make sure the response is respectful of all viewpoints and encourages reflection.\\n\"}}], 'usage': {'prompt_tokens': 14, 'completion_tokens': 999, 'total_tokens': 1013}}\n"
          ]
        }
      ],
      "source": [
        "import requests\n",
        "import json\n",
        "\n",
        "response = requests.post(\n",
        "  url=f\"{BASE_URL}/chat/completions\",\n",
        "  headers={\n",
        "    \"Authorization\": f\"Bearer {OPENROUTER_API_KEY}\",\n",
        "  },\n",
        "  data=json.dumps({\n",
        "    \"model\": MODEL,\n",
        "    \"messages\": [\n",
        "      {\n",
        "        \"role\": \"user\",\n",
        "        \"content\": \"What is the meaning of life?\"\n",
        "      }\n",
        "    ]\n",
        "  })\n",
        ")\n",
        "\n",
        "print(response.json())"
      ]
    },
    {
      "cell_type": "code",
      "execution_count": 9,
      "metadata": {
        "colab": {
          "base_uri": "https://localhost:8080/",
          "height": 181
        },
        "id": "mv3B6_oRto5S",
        "outputId": "9e328828-5a29-4703-c849-995fb3ddb5db"
      },
      "outputs": [
        {
          "output_type": "execute_result",
          "data": {
            "text/plain": [
              "'The question of the meaning of life is one of the most profound and enduring inquiries in human history, and it has no single, universally accepted answer. Different perspectives—philosophical, religious, scientific, and personal—offer varied interpretations. Here are some key approaches to consider:\\n\\n### 1. **Philosophical Perspectives**  \\n   - **Existentialism**: Thinkers like Jean-Paul Sartre and Albert Camus argue that life has no inherent meaning, and it is up to individuals to create their own purpose through choices, actions, and commitments.  \\n   - **Absurdism**: Camus suggests that while life may be inherently meaningless, we can find freedom and authenticity by embracing the \"absurd\" (the clash between humanity\\'s search for meaning and the universe\\'s silence).  \\n   - **Stoicism**: Focuses on living virtuously, cultivating inner tranquility, and aligning with nature or reason.  \\n   - **Nihilism**: Proposes that life has no intrinsic meaning, though some interpretations encourage finding personal value despite this.\\n\\n### 2. **Religious and Spiritual Views**  \\n   - Many faiths (e.g., Christianity, Islam, Buddhism, Hinduism) posit that life\\'s purpose is tied to a higher power, spiritual growth, or liberation from suffering. For example:  \\n     - **Christianity**: To love God and others, and seek salvation.  \\n     - **Buddhism**: To attain enlightenment (nirvana) and escape the cycle of suffering (samsara).  \\n     - **Hinduism**: To fulfill dharma (duty), pursue spiritual liberation (moksha), or connect with the divine.  \\n   - **Pantheism or Mysticism**: Views life as an expression of a universal consciousness or divine unity.\\n\\n### 3. **Scientific and Biological Perspectives**  \\n   - From an evolutionary standpoint, life\\'s \"purpose\" might be seen as survival, reproduction, and the continuation of genetic material. However, this is often criticized as reducing existence to mechanistic processes, neglecting subjective experiences.  \\n   - **Cosmic Perspective**: Some scientists (e.g., Carl Sagan) emphasize that while the universe may be indifferent, human consciousness allows us to seek meaning, create art, and explore the cosmos.\\n\\n### 4. **Humanistic and Psychological Approaches**  \\n   - **Viktor Frankl\\'s Logotherapy**: Suggests that finding meaning in suffering or personal responsibility is key to living a fulfilling life.  \\n   - **Positive Psychology**: Focuses on well-being, relationships, gratitude, and pursuing passions.  \\n   - **Individualism**: Many believe meaning arises from personal goals, creativity, relationships, or contributing to others.\\n\\n### 5. **Cultural and Personal Views**  \\n   - Meanings can be shaped by cultural values, family, traditions, or personal experiences. For some, it might be family, for others, adventure, knowledge, or art.  \\n   - **The \"Search for Meaning\"**: Many people find purpose in seeking answers, questioning, and evolving over time.\\n\\n### 6. **The Absence of a Universal Answer**  \\n   - Some argue that the question itself is a human construct, and that meaning is not something to be \"found\" but something to be *created* through how we live and connect with the world.  \\n\\nUltimately, the meaning of life may not be a destination but a journey—one shaped by curiosity, connection, and the choices we make. As the poet Rilke wrote, *\"Life is not a problem to be solved, but a reality to be experienced.\"* What matters most is how you choose to engage with it.'"
            ],
            "application/vnd.google.colaboratory.intrinsic+json": {
              "type": "string"
            }
          },
          "metadata": {},
          "execution_count": 9
        }
      ],
      "source": [
        "data = response.json()\n",
        "data['choices'][0]['message']['content']"
      ]
    },
    {
      "cell_type": "markdown",
      "metadata": {
        "id": "E_jESzWAsu91"
      },
      "source": [
        "## 2. Using OpenAI Agents SDK"
      ]
    },
    {
      "cell_type": "code",
      "execution_count": 10,
      "metadata": {
        "colab": {
          "base_uri": "https://localhost:8080/"
        },
        "id": "QA4vWqtvN6wm",
        "outputId": "80141ec8-99b1-4531-8a86-4aa5d006adde"
      },
      "outputs": [
        {
          "output_type": "stream",
          "name": "stdout",
          "text": [
            "Function calls itself,  \n",
            "Base case prevents endless loops—  \n",
            "Solves big problems small.\n"
          ]
        }
      ],
      "source": [
        "import asyncio\n",
        "from openai import AsyncOpenAI\n",
        "from agents import Agent, OpenAIChatCompletionsModel, Runner, set_tracing_disabled\n",
        "\n",
        "client = AsyncOpenAI(\n",
        "    api_key=OPENROUTER_API_KEY,\n",
        "    base_url=BASE_URL\n",
        ")\n",
        "\n",
        "set_tracing_disabled(disabled=True)\n",
        "\n",
        "async def main():\n",
        "    # This agent will use the custom LLM provider\n",
        "    agent = Agent(\n",
        "        name=\"Assistant\",\n",
        "        instructions=\"You only respond in haikus.\",\n",
        "        model=OpenAIChatCompletionsModel(model=MODEL, openai_client=client),\n",
        "    )\n",
        "\n",
        "    result = await Runner.run(\n",
        "        agent,\n",
        "        \"Tell me about recursion in programming.\",\n",
        "    )\n",
        "    print(result.final_output)\n",
        "\n",
        "\n",
        "if __name__ == \"__main__\":\n",
        "    asyncio.run(main())"
      ]
    },
    {
      "cell_type": "markdown",
      "metadata": {
        "id": "vOmetFzVLPVk"
      },
      "source": [
        "# OpenRouter 404 Error Solution\n",
        "\n",
        "## Error - No endpoints found matching\n",
        "```python\n",
        "NotFoundError: Error code: 404 - {'error': {'message': 'No endpoints found matching your data policy. Enable prompt training here: https://openrouter.ai/settings/privacy', 'code': 404}}\n",
        "```\n",
        "\n",
        "## Cause\n",
        "This error occurs when OpenRouter API can't find endpoints matching your data policy, typically because prompt training is disabled.\n",
        "\n",
        "## Solution\n",
        "\n",
        "1. **Enable Prompt Training**:\n",
        "   - Visit [OpenRouter Privacy Settings](https://openrouter.ai/settings/privacy)\n",
        "   - Toggle ON \"Prompt Training\" option\n",
        "\n",
        "2. **Re-run your code** after enabling\n",
        "\n",
        "![OpenRouter Settings Screenshot](./openrouter.png)\n",
        "*(Example: Enable prompt training in privacy settings)*\n",
        "\n",
        "## Prevention\n",
        "Keep prompt training enabled for uninterrupted API access.\n",
        "```"
      ]
    }
  ],
  "metadata": {
    "colab": {
      "provenance": []
    },
    "kernelspec": {
      "display_name": "Python 3",
      "name": "python3"
    },
    "language_info": {
      "name": "python"
    }
  },
  "nbformat": 4,
  "nbformat_minor": 0
}