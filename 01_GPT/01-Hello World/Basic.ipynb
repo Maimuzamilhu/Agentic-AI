{
 "cells": [
  {
   "cell_type": "markdown",
   "metadata": {},
   "source": [
    "#### Install  OpenAI"
   ]
  },
  {
   "cell_type": "code",
   "execution_count": 1,
   "metadata": {},
   "outputs": [
    {
     "name": "stdout",
     "output_type": "stream",
     "text": [
      "Note: you may need to restart the kernel to use updated packages.\n",
      "Requirement already satisfied: python-dotenv in c:\\users\\pmls\\.conda\\envs\\pythongenai\\lib\\site-packages (from -r requirements.txt (line 1)) (1.0.1)\n",
      "Requirement already satisfied: openai in c:\\users\\pmls\\.conda\\envs\\pythongenai\\lib\\site-packages (from -r requirements.txt (line 2)) (1.12.0)\n",
      "Requirement already satisfied: anyio<5,>=3.5.0 in c:\\users\\pmls\\.conda\\envs\\pythongenai\\lib\\site-packages (from openai->-r requirements.txt (line 2)) (4.2.0)\n",
      "Requirement already satisfied: distro<2,>=1.7.0 in c:\\users\\pmls\\.conda\\envs\\pythongenai\\lib\\site-packages (from openai->-r requirements.txt (line 2)) (1.9.0)\n",
      "Requirement already satisfied: httpx<1,>=0.23.0 in c:\\users\\pmls\\.conda\\envs\\pythongenai\\lib\\site-packages (from openai->-r requirements.txt (line 2)) (0.25.2)\n",
      "Requirement already satisfied: pydantic<3,>=1.9.0 in c:\\users\\pmls\\.conda\\envs\\pythongenai\\lib\\site-packages (from openai->-r requirements.txt (line 2)) (2.5.3)\n",
      "Requirement already satisfied: sniffio in c:\\users\\pmls\\.conda\\envs\\pythongenai\\lib\\site-packages (from openai->-r requirements.txt (line 2)) (1.3.0)\n",
      "Requirement already satisfied: tqdm>4 in c:\\users\\pmls\\.conda\\envs\\pythongenai\\lib\\site-packages (from openai->-r requirements.txt (line 2)) (4.66.1)\n",
      "Requirement already satisfied: typing-extensions<5,>=4.7 in c:\\users\\pmls\\.conda\\envs\\pythongenai\\lib\\site-packages (from openai->-r requirements.txt (line 2)) (4.9.0)\n",
      "Requirement already satisfied: idna>=2.8 in c:\\users\\pmls\\.conda\\envs\\pythongenai\\lib\\site-packages (from anyio<5,>=3.5.0->openai->-r requirements.txt (line 2)) (3.6)\n",
      "Requirement already satisfied: certifi in c:\\users\\pmls\\appdata\\roaming\\python\\python312\\site-packages (from httpx<1,>=0.23.0->openai->-r requirements.txt (line 2)) (2023.11.17)\n",
      "Requirement already satisfied: httpcore==1.* in c:\\users\\pmls\\.conda\\envs\\pythongenai\\lib\\site-packages (from httpx<1,>=0.23.0->openai->-r requirements.txt (line 2)) (1.0.2)\n",
      "Requirement already satisfied: h11<0.15,>=0.13 in c:\\users\\pmls\\.conda\\envs\\pythongenai\\lib\\site-packages (from httpcore==1.*->httpx<1,>=0.23.0->openai->-r requirements.txt (line 2)) (0.14.0)\n",
      "Requirement already satisfied: annotated-types>=0.4.0 in c:\\users\\pmls\\.conda\\envs\\pythongenai\\lib\\site-packages (from pydantic<3,>=1.9.0->openai->-r requirements.txt (line 2)) (0.6.0)\n",
      "Requirement already satisfied: pydantic-core==2.14.6 in c:\\users\\pmls\\.conda\\envs\\pythongenai\\lib\\site-packages (from pydantic<3,>=1.9.0->openai->-r requirements.txt (line 2)) (2.14.6)\n",
      "Requirement already satisfied: colorama in c:\\users\\pmls\\.conda\\envs\\pythongenai\\lib\\site-packages (from tqdm>4->openai->-r requirements.txt (line 2)) (0.4.6)\n"
     ]
    },
    {
     "name": "stderr",
     "output_type": "stream",
     "text": [
      "WARNING: Ignoring invalid distribution ~treamlit (c:\\Users\\PMLS\\.conda\\envs\\pythongenai\\Lib\\site-packages)\n",
      "WARNING: Ignoring invalid distribution ~treamlit (c:\\Users\\PMLS\\.conda\\envs\\pythongenai\\Lib\\site-packages)\n"
     ]
    }
   ],
   "source": [
    "%pip install -r requirements.txt"
   ]
  },
  {
   "cell_type": "code",
   "execution_count": 2,
   "metadata": {},
   "outputs": [
    {
     "data": {
      "text/plain": [
       "'c:\\\\D Drive\\\\Python Courses\\\\Python code\\\\Gen AI\\\\01_CHATGPT\\\\01-Hello World\\\\.env'"
      ]
     },
     "execution_count": 2,
     "metadata": {},
     "output_type": "execute_result"
    }
   ],
   "source": [
    "from dotenv import load_dotenv , find_dotenv\n",
    "find_dotenv()"
   ]
  },
  {
   "cell_type": "code",
   "execution_count": 3,
   "metadata": {},
   "outputs": [
    {
     "data": {
      "text/plain": [
       "True"
      ]
     },
     "execution_count": 3,
     "metadata": {},
     "output_type": "execute_result"
    }
   ],
   "source": [
    "load_dotenv(find_dotenv()) #read local .env file"
   ]
  },
  {
   "cell_type": "code",
   "execution_count": 12,
   "metadata": {},
   "outputs": [
    {
     "data": {
      "text/plain": [
       "'Muzzamil Khalid'"
      ]
     },
     "execution_count": 12,
     "metadata": {},
     "output_type": "execute_result"
    }
   ],
   "source": [
    "import os\n",
    "os.environ[\"MY_NAME\"]"
   ]
  },
  {
   "cell_type": "code",
   "execution_count": 5,
   "metadata": {},
   "outputs": [],
   "source": [
    "from openai import OpenAI\n",
    "from dotenv import  load_dotenv , find_dotenv\n",
    "\n",
    "_ : bool = load_dotenv(find_dotenv())\n",
    "\n",
    "client : OpenAI = OpenAI() "
   ]
  },
  {
   "cell_type": "code",
   "execution_count": 21,
   "metadata": {},
   "outputs": [
    {
     "name": "stdout",
     "output_type": "stream",
     "text": [
      "ChatCompletion(id='chatcmpl-8gVhtGwZgVNZeFQDiK3VrfEdNon1h', choices=[Choice(finish_reason='stop', index=0, logprobs=None, message=ChatCompletionMessage(content='2+2 equals 4.', role='assistant', function_call=None, tool_calls=None))], created=1705142349, model='gpt-3.5-turbo-1106', object='chat.completion', system_fingerprint='fp_cbe4fa03fe', usage=CompletionUsage(completion_tokens=7, prompt_tokens=13, total_tokens=20))\n"
     ]
    },
    {
     "data": {
      "text/plain": [
       "{'id': 'chatcmpl-8gVhtGwZgVNZeFQDiK3VrfEdNon1h',\n",
       " 'choices': [Choice(finish_reason='stop', index=0, logprobs=None, message=ChatCompletionMessage(content='2+2 equals 4.', role='assistant', function_call=None, tool_calls=None))],\n",
       " 'created': 1705142349,\n",
       " 'model': 'gpt-3.5-turbo-1106',\n",
       " 'object': 'chat.completion',\n",
       " 'system_fingerprint': 'fp_cbe4fa03fe',\n",
       " 'usage': CompletionUsage(completion_tokens=7, prompt_tokens=13, total_tokens=20)}"
      ]
     },
     "metadata": {},
     "output_type": "display_data"
    }
   ],
   "source": [
    "from openai.types.chat.chat_completion import ChatCompletion\n",
    "\n",
    "def chat_completion(prompt : str)->str:\n",
    "    response:ChatCompletion = client.chat.completions.create(\n",
    "        messages = [\n",
    "            {\n",
    "                \"role\": \"user\",\n",
    "                \"content\" : prompt,\n",
    "            }\n",
    "        ],\n",
    "        model = \"gpt-3.5-turbo-1106\",\n",
    "    )\n",
    "    print(response)\n",
    "    display(dict(response))\n",
    "    #print(response.choices[0].message.content)\n",
    "    #return response.choices[0].message.content\n",
    "\n",
    "chat_completion(\"What is 2+2\")"
   ]
  }
 ],
 "metadata": {
  "kernelspec": {
   "display_name": "pythongenai",
   "language": "python",
   "name": "python3"
  },
  "language_info": {
   "codemirror_mode": {
    "name": "ipython",
    "version": 3
   },
   "file_extension": ".py",
   "mimetype": "text/x-python",
   "name": "python",
   "nbconvert_exporter": "python",
   "pygments_lexer": "ipython3",
   "version": "3.12.0"
  }
 },
 "nbformat": 4,
 "nbformat_minor": 2
}
