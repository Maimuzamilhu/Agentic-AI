{
 "cells": [
  {
   "cell_type": "code",
   "execution_count": 6,
   "metadata": {},
   "outputs": [],
   "source": [
    "from openai import OpenAI\n",
    "from dotenv import load_dotenv , find_dotenv\n",
    "\n",
    "_ : bool = load_dotenv(find_dotenv()) # read local .env file\n",
    "\n",
    "client : OpenAI = OpenAI()"
   ]
  },
  {
   "cell_type": "code",
   "execution_count": 7,
   "metadata": {},
   "outputs": [
    {
     "name": "stdout",
     "output_type": "stream",
     "text": [
      "Recursion in programming is a beautiful feat\n",
      "Where a function calls itself, a cycle so neat\n",
      "It's a concept that may seem a little bit strange\n",
      "But once you understand it, it can bring about change\n",
      "\n",
      "When a function calls itself to solve a task\n",
      "It can make your code more elegant, that's no mask\n",
      "Take for example, the Fibonacci sequence so fine\n",
      "Recursion can compute it in a manner divine\n",
      "\n",
      "But beware, my friend, for recursion has its cost\n",
      "Infinite loops and stack overflow are risks that aren't lost\n",
      "So be sure to have a base case for recursion to halt\n",
      "And your program will shine with recursive assault\n",
      "\n",
      "So in essence, recursion is a tool of great power\n",
      "To solve problems with elegance, in a recursive tower\n",
      "But with great power comes great responsibility, it's true\n",
      "So use recursion wisely, and your code will thank you\n"
     ]
    }
   ],
   "source": [
    "from openai.types.chat.chat_completion import ChatCompletion\n",
    "\n",
    "def chat_completion(prompt : str) -> str:\n",
    "    completion : ChatCompletion = client.chat.completions.create(\n",
    "\n",
    "        model= \"gpt-3.5-turbo-1106\",\n",
    "        messages= [ \n",
    "                {\"role\" :\"system\" , \"content\":\"your are a poetic assistance , skilled in explaining complex prgram\"}\n",
    "             ,{\"role\" : \"user\" , \"content\" : prompt}\n",
    " \n",
    "        ]    \n",
    "    )\n",
    "\n",
    "    return completion.choices[0].message.content\n",
    "\n",
    "print(chat_completion(\"explain the concept of recurion of programing\"))"
   ]
  },
  {
   "cell_type": "markdown",
   "metadata": {},
   "source": [
    "#### Without prompt perameter"
   ]
  },
  {
   "cell_type": "code",
   "execution_count": 9,
   "metadata": {},
   "outputs": [
    {
     "name": "stdout",
     "output_type": "stream",
     "text": [
      "Recursion is a powerful concept in programming where a function calls itself in order to solve a problem. In simpler terms, it's like a Russian nesting doll, where one doll contains a smaller doll, and so on. \n",
      "\n",
      "When a function calls itself, it breaks down a problem into smaller, more manageable sub-problems, and continues doing so until it reaches a base case where the problem is simple enough to solve directly. Then, the solutions are combined to solve the original problem.\n",
      "\n",
      "For example, consider the factorial function in mathematics, denoted as n!. The factorial of a non-negative integer n is the product of all positive integers less than or equal to n. We can recursively define the factorial function as:\n",
      "\n",
      "n! = n * (n-1)!\n",
      "\n",
      "Here, the function (n-1)! is called within the definition of n!. This recursion continues until n reaches 0, at which point the base case is reached and the recursion stops. This leads to the base case of 0! = 1.\n",
      "\n",
      "Recursion is elegant and can often provide concise and efficient solutions to certain problems, but it should be used carefully, as it can lead to infinite loops or consume excessive memory if not well-managed.\n"
     ]
    }
   ],
   "source": [
    "from openai.types.chat.chat_completion import ChatCompletion\n",
    "\n",
    "def chat_completion() -> str:\n",
    "    completion : ChatCompletion = client.chat.completions.create(\n",
    "\n",
    "        model= \"gpt-3.5-turbo-1106\",\n",
    "        messages= [ \n",
    "                {\"role\" :\"system\" , \"content\":\"your are a poetic assistance , skilled in explaining complex prgram\"}\n",
    "             ,{\"role\" : \"user\" , \"content\" : \"explain the concept of recurion of programing\"}\n",
    " \n",
    "        ]    \n",
    "    )\n",
    "\n",
    "    return completion.choices[0].message.content\n",
    "\n",
    "print(chat_completion())"
   ]
  }
 ],
 "metadata": {
  "kernelspec": {
   "display_name": "pythongenai",
   "language": "python",
   "name": "python3"
  },
  "language_info": {
   "codemirror_mode": {
    "name": "ipython",
    "version": 3
   },
   "file_extension": ".py",
   "mimetype": "text/x-python",
   "name": "python",
   "nbconvert_exporter": "python",
   "pygments_lexer": "ipython3",
   "version": "3.12.0"
  }
 },
 "nbformat": 4,
 "nbformat_minor": 2
}
