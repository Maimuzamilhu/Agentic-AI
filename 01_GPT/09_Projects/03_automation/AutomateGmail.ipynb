{
 "cells": [
  {
   "cell_type": "code",
   "execution_count": 5,
   "metadata": {},
   "outputs": [],
   "source": [
    "from openai import OpenAI\n",
    "import json\n",
    "from dotenv import load_dotenv , find_dotenv\n",
    "\n",
    "_ :  bool = load_dotenv(find_dotenv())"
   ]
  },
  {
   "cell_type": "code",
   "execution_count": 6,
   "metadata": {},
   "outputs": [],
   "source": [
    "client : OpenAI = OpenAI()"
   ]
  },
  {
   "cell_type": "markdown",
   "metadata": {},
   "source": [
    "### Step 1: Upload the file and Create an Assistant"
   ]
  },
  {
   "cell_type": "code",
   "execution_count": 7,
   "metadata": {},
   "outputs": [
    {
     "name": "stdout",
     "output_type": "stream",
     "text": [
      "FileObject(id='file-7Va4KAuxkCJExPaPuu8cGGHC', bytes=481252, created_at=1710717652, filename='Dawood.pdf', object='file', purpose='assistants', status='processed', status_details=None)\n"
     ]
    }
   ],
   "source": [
    "from openai.types.beta import assistant\n",
    "\n",
    "#Upload file with assistance purpose\n",
    "file = client.files.create(\n",
    "    file = open(\"Dawood.pdf\" , \"rb\") , \n",
    "    purpose=\"assistants\"\n",
    ")\n",
    "print(file)"
   ]
  },
  {
   "cell_type": "code",
   "execution_count": 9,
   "metadata": {},
   "outputs": [
    {
     "name": "stdout",
     "output_type": "stream",
     "text": [
      "Assistant(id='asst_FC6q9FIail7Ud08WM6K53Nig', created_at=1710717664, description=None, file_ids=['file-7Va4KAuxkCJExPaPuu8cGGHC'], instructions='You are a helpful University assistant that help and guide students, and has access to a Dawood university that contain information to display information', metadata={}, model='gpt-3.5-turbo-1106', name='Travel Agent', object='assistant', tools=[ToolRetrieval(type='retrieval')])\n"
     ]
    }
   ],
   "source": [
    "#gpt-3.5-turbo-1106\n",
    "\n",
    "assistant = client.beta.assistants.create(\n",
    "    name=\"Travel Agent\",\n",
    "    instructions=\"You are a helpful University assistant that help and guide students, and has access to a Dawood university that contain information to display information\",\n",
    "    model=\"gpt-3.5-turbo-1106\",\n",
    "    tools=[\n",
    "        {\"type\": \"retrieval\"},],\n",
    "        file_ids=[file.id]\n",
    "    )\n",
    "print(assistant)\n"
   ]
  },
  {
   "cell_type": "markdown",
   "metadata": {},
   "source": [
    "#### Step 02 :Create a Thread"
   ]
  },
  {
   "cell_type": "code",
   "execution_count": 54,
   "metadata": {},
   "outputs": [
    {
     "name": "stdout",
     "output_type": "stream",
     "text": [
      "Thread(id='thread_OXNFQYTuasxmaimTYPy7eyw1', created_at=1710716417, metadata={}, object='thread')\n"
     ]
    }
   ],
   "source": [
    "from openai.types.beta import Thread\n",
    "\n",
    "thread : Thread = client.beta.threads.create()\n",
    "\n",
    "print(thread)"
   ]
  },
  {
   "cell_type": "markdown",
   "metadata": {},
   "source": [
    "#### Step 03 : Add Message to Thread"
   ]
  },
  {
   "cell_type": "code",
   "execution_count": 78,
   "metadata": {},
   "outputs": [],
   "source": [
    "from openai.types.beta.threads.thread_message import ThreadMessage\n",
    "\n",
    "message = client.beta.threads.messages.create(\n",
    "    thread_id=thread.id,\n",
    "    role=\"user\",\n",
    "    content=\"what is the fees struture of bs artificial intelligence in dawood univerity \"\n",
    ")\n"
   ]
  },
  {
   "cell_type": "markdown",
   "metadata": {},
   "source": [
    "#### Step 04 : Run the Assistant"
   ]
  },
  {
   "cell_type": "code",
   "execution_count": 79,
   "metadata": {},
   "outputs": [
    {
     "name": "stdout",
     "output_type": "stream",
     "text": [
      "run_6FdoXxxEXNMJsLh6TQhZL1Yf\n"
     ]
    }
   ],
   "source": [
    "from openai.types.beta.threads.run import Run\n",
    "\n",
    "run : Run = client.beta.threads.runs.create(\n",
    "\n",
    "    thread_id=thread.id,\n",
    "    assistant_id=assistant.id,\n",
    "    instructions=\"Please adress to the student of dawood university\"\n",
    ")\n",
    "print(run.id)"
   ]
  },
  {
   "cell_type": "code",
   "execution_count": 81,
   "metadata": {},
   "outputs": [
    {
     "name": "stdout",
     "output_type": "stream",
     "text": [
      "completed\n"
     ]
    }
   ],
   "source": [
    "run = client.beta.threads.runs.retrieve(\n",
    "    thread_id = thread.id,\n",
    "    run_id = run.id\n",
    ")\n",
    "\n",
    "print(run.status)\n"
   ]
  },
  {
   "cell_type": "code",
   "execution_count": 82,
   "metadata": {},
   "outputs": [],
   "source": [
    "import time\n",
    "while run.status not in [\"completed\", \"failed\"]:\n",
    "  run = client.beta.threads.runs.retrieve(\n",
    "    thread_id = thread.id,\n",
    "    run_id = run.id\n",
    "  )\n",
    "\n",
    "  print(run.status)\n",
    "  time.sleep(10)"
   ]
  },
  {
   "cell_type": "code",
   "execution_count": 83,
   "metadata": {},
   "outputs": [
    {
     "name": "stdout",
     "output_type": "stream",
     "text": [
      "assistant:The fee structure for the BS program in Artificial Intelligence at Dawood University of Engineering and Technology is as follows:\n",
      "\n",
      "- For local students:\n",
      "  - Total Self-Finance Fee: PKR 400,000 + taxes\n",
      "\n",
      "- For foreign students:\n",
      "  - Total Self-Finance Fee: USD 3,000 + taxes\n",
      "\n",
      "Please note that this information is based on the provided document from the university and that additional fees and policies may apply.\n",
      "user:what is the fees struture of bs artificial intelligence in dawood univerity \n",
      "assistant:The fee structure for the BS program in Artificial Intelligence at Dawood University of Engineering and Technology is as follows:\n",
      "\n",
      "- For local students:\n",
      "  - Total Self-Finance Fee: PKR 400,000 + taxes\n",
      "- For foreign students:\n",
      "  - Total Self-Finance Fee: USD 3,000 + taxes\n",
      "\n",
      "Additional fees and policies include a refund policy, collection of withholding taxes, and the potential for exemptions for overseas Pakistani/expatriate students based on certain conditions and documents provided.\n",
      "\n",
      "It's important to note that the validity of the challan for fee payment is 45 days from the commencement of the semester, and late fee penalties apply for payments made after the due date. Students are also required to pay semester fees based on the number of courses registered and fixed heads defined by the university.\n",
      "\n",
      "For a more comprehensive understanding, it's advisable to refer to the university's official documentation for the most up-to-date fee structure and policies related to it. \n",
      "user:what is the fees struture in dawood university \n",
      "assistant:The Vice Chancellor of Dawood University of Engineering and Technology is Prof. Dr. Samreen Hussain【1:2】.\n",
      "user:who is vc of dawood university \n",
      "user:What is fee structure of bs artificial intelligence \n",
      "user:What is fee structure of bs artificial intelligence and how to pass the test\n"
     ]
    }
   ],
   "source": [
    "messages = client.beta.threads.messages.list(\n",
    "    thread_id = thread.id,\n",
    "\n",
    ")\n",
    "\n",
    "for each in messages:\n",
    "  print(each.role + \":\" + each.content[0].text.value)"
   ]
  },
  {
   "cell_type": "code",
   "execution_count": null,
   "metadata": {},
   "outputs": [],
   "source": []
  }
 ],
 "metadata": {
  "kernelspec": {
   "display_name": "pythongenai",
   "language": "python",
   "name": "python3"
  },
  "language_info": {
   "codemirror_mode": {
    "name": "ipython",
    "version": 3
   },
   "file_extension": ".py",
   "mimetype": "text/x-python",
   "name": "python",
   "nbconvert_exporter": "python",
   "pygments_lexer": "ipython3",
   "version": "3.12.0"
  }
 },
 "nbformat": 4,
 "nbformat_minor": 2
}
