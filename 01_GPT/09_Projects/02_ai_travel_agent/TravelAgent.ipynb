{
 "cells": [
  {
   "cell_type": "code",
   "execution_count": 62,
   "metadata": {},
   "outputs": [],
   "source": [
    "from openai import OpenAI\n",
    "import json\n",
    "from dotenv import find_dotenv , load_dotenv\n",
    "#import requests #to fetch\n",
    "import os\n",
    "import plotly.express as px\n",
    "import plotly.graph_objects as go\n",
    "import pandas as pd\n",
    "_ : bool = load_dotenv(find_dotenv())\n",
    "\n",
    "client : OpenAI = OpenAI() "
   ]
  },
  {
   "cell_type": "markdown",
   "metadata": {},
   "source": [
    "##### We Will Use MapBox for map functionalities Using API Key from this Website\n",
    "\n",
    "https://account.mapbox.com/ "
   ]
  },
  {
   "cell_type": "code",
   "execution_count": 63,
   "metadata": {},
   "outputs": [],
   "source": [
    "\n",
    "\n",
    "# Create a function to initialize the map and set the initial view\n",
    "def initialize_map(longitude, latitude, zoom):\n",
    "    mapbox_access_token = os.getenv(\"MAP_BOX_API\")\n",
    "    map = px.scatter_mapbox(\n",
    "        data_frame=pd.DataFrame(),\n",
    "        mapbox_style=\"open-street-map\",\n",
    "        center={\"lon\": longitude, \"lat\": latitude},\n",
    "        zoom=zoom,\n",
    "    )\n",
    "    map.update_layout(mapbox_accesstoken=mapbox_access_token)\n",
    "    return map\n",
    "\n",
    "# Create a function to update the map center and zoom level\n",
    "def update_map(map, longitude, latitude, zoom):\n",
    "    map.update_layout(\n",
    "        mapbox_center={\"lon\": longitude, \"lat\": latitude},\n",
    "        mapbox_zoom=zoom,\n",
    "    )\n",
    "\n",
    "# Create a function to add markers to the map\n",
    "def add_markers(map, longitudes, latitudes, labels):\n",
    "    map.add_trace(\n",
    "        go.Scattermapbox(\n",
    "            lon=longitudes,\n",
    "            lat=latitudes,\n",
    "            mode=\"markers\",\n",
    "            text=labels,\n",
    "            marker=dict(size=10)\n",
    "        )\n",
    "    )"
   ]
  },
  {
   "cell_type": "markdown",
   "metadata": {},
   "source": [
    "### Step 1: Upload the file and Create an Assistant"
   ]
  },
  {
   "cell_type": "code",
   "execution_count": 65,
   "metadata": {},
   "outputs": [
    {
     "name": "stdout",
     "output_type": "stream",
     "text": [
      "FileObject(id='file-AHisncdiJRzFuykG9Acyz9WK', bytes=1217, created_at=1710631112, filename='sample_airbnb_receipt.pdf', object='file', purpose='assistants', status='processed', status_details=None)\n"
     ]
    }
   ],
   "source": [
    "from openai.types.beta import assistant\n",
    "\n",
    "#Upload file with assistance purpose\n",
    "file = client.files.create(\n",
    "    file = open(\"sample_airbnb_receipt.pdf\" , \"rb\") , \n",
    "    purpose=\"assistants\"\n",
    ")\n",
    "print(file)"
   ]
  },
  {
   "cell_type": "code",
   "execution_count": 66,
   "metadata": {},
   "outputs": [],
   "source": [
    "assistant = client.beta.assistants.create(\n",
    "    name=\"Travel Agent\",\n",
    "    instructions=\"You are a helpful travel assistant that can write and execute code, and has access to a digital map to display information\",\n",
    "    model=\"gpt-3.5-turbo-1106\",\n",
    "    tools=[\n",
    "        {\"type\": \"retrieval\"},\n",
    "        {\"type\": \"code_interpreter\"},\n",
    "        {\n",
    "            \"type\": \"function\",\n",
    "            \"function\": {\n",
    "                \"name\": \"update_map\",\n",
    "                \"description\": \"Update map to center on a particular location\",\n",
    "                \"parameters\": {\n",
    "                    \"type\": \"object\",\n",
    "                    \"properties\": {\n",
    "                        \"longitude\": {\n",
    "                            \"type\": \"number\",\n",
    "                            \"description\": \"Longitude of the location to center the map on\"\n",
    "                        },\n",
    "                        \"latitude\": {\n",
    "                            \"type\": \"number\",\n",
    "                            \"description\": \"Latitude of the location to center the map on\"\n",
    "                        },\n",
    "                        \"zoom\": {\n",
    "                            \"type\": \"integer\",\n",
    "                            \"description\": \"Zoom level of the map\"\n",
    "                        }\n",
    "                    },\n",
    "                    \"required\": [\"longitude\", \"latitude\", \"zoom\"]\n",
    "                }\n",
    "            }\n",
    "        }\n",
    "    ]\n",
    ")"
   ]
  },
  {
   "cell_type": "markdown",
   "metadata": {},
   "source": [
    "#### Create Thread"
   ]
  },
  {
   "cell_type": "code",
   "execution_count": 67,
   "metadata": {},
   "outputs": [
    {
     "name": "stdout",
     "output_type": "stream",
     "text": [
      "Thread(id='thread_o2ZTSZRunRYOVaOzxy5m92Xd', created_at=1710631113, metadata={}, object='thread')\n"
     ]
    }
   ],
   "source": [
    "thread = client.beta.threads.create()\n",
    "print(thread)"
   ]
  },
  {
   "cell_type": "markdown",
   "metadata": {},
   "source": [
    "#### Add Message to Thread"
   ]
  },
  {
   "cell_type": "code",
   "execution_count": 68,
   "metadata": {},
   "outputs": [
    {
     "data": {
      "text/plain": [
       "{'id': 'msg_94V4tjZ28ZQoV9U3VlbIENso',\n",
       " 'assistant_id': None,\n",
       " 'content': [MessageContentText(text=Text(annotations=[], value='Move to the france letitude is 2344 and longitude is 332'), type='text')],\n",
       " 'created_at': 1710631114,\n",
       " 'file_ids': [],\n",
       " 'metadata': {},\n",
       " 'object': 'thread.message',\n",
       " 'role': 'user',\n",
       " 'run_id': None,\n",
       " 'thread_id': 'thread_o2ZTSZRunRYOVaOzxy5m92Xd'}"
      ]
     },
     "execution_count": 68,
     "metadata": {},
     "output_type": "execute_result"
    }
   ],
   "source": [
    "from openai.types.beta.threads.thread_message import ThreadMessage\n",
    "message = client.beta.threads.messages.create(\n",
    "    thread_id=thread.id,\n",
    "    role=\"user\",\n",
    "    content=\"Move to the france letitude is 2344 and longitude is 332\"\n",
    ")\n",
    "\n",
    "dict(message)"
   ]
  },
  {
   "cell_type": "markdown",
   "metadata": {},
   "source": [
    "##### Create Run\n"
   ]
  },
  {
   "cell_type": "code",
   "execution_count": 69,
   "metadata": {},
   "outputs": [
    {
     "data": {
      "text/plain": [
       "{'id': 'run_RK0rADWXOJ8PAQMuABT5vBoQ',\n",
       " 'assistant_id': 'asst_yPoRWMQ8ZeQezJttyegq40ly',\n",
       " 'cancelled_at': None,\n",
       " 'completed_at': None,\n",
       " 'created_at': 1710631114,\n",
       " 'expires_at': 1710631714,\n",
       " 'failed_at': None,\n",
       " 'file_ids': [],\n",
       " 'instructions': 'You are a helpful travel assistant that can write and execute code, and has access to a digital map to display information',\n",
       " 'last_error': None,\n",
       " 'metadata': {},\n",
       " 'model': 'gpt-3.5-turbo-1106',\n",
       " 'object': 'thread.run',\n",
       " 'required_action': None,\n",
       " 'started_at': None,\n",
       " 'status': 'queued',\n",
       " 'thread_id': 'thread_o2ZTSZRunRYOVaOzxy5m92Xd',\n",
       " 'tools': [ToolAssistantToolsRetrieval(type='retrieval'),\n",
       "  ToolAssistantToolsCode(type='code_interpreter'),\n",
       "  ToolAssistantToolsFunction(function=FunctionDefinition(name='update_map', description='Update map to center on a particular location', parameters={'type': 'object', 'properties': {'longitude': {'type': 'number', 'description': 'Longitude of the location to center the map on'}, 'latitude': {'type': 'number', 'description': 'Latitude of the location to center the map on'}, 'zoom': {'type': 'integer', 'description': 'Zoom level of the map'}}, 'required': ['longitude', 'latitude', 'zoom']}), type='function')],\n",
       " 'usage': None}"
      ]
     },
     "execution_count": 69,
     "metadata": {},
     "output_type": "execute_result"
    }
   ],
   "source": [
    "run = client.beta.threads.runs.create(\n",
    "    thread_id=thread.id,\n",
    "    assistant_id=assistant.id\n",
    "    \n",
    ")\n",
    "\n",
    "dict(run)"
   ]
  },
  {
   "cell_type": "markdown",
   "metadata": {},
   "source": [
    "#### Available Functions"
   ]
  },
  {
   "cell_type": "code",
   "execution_count": 70,
   "metadata": {},
   "outputs": [],
   "source": [
    "available_functions = {\n",
    "    \"update_map\": update_map,\n",
    "    \"add_markers\": add_markers,\n",
    "    \n",
    "} "
   ]
  },
  {
   "cell_type": "markdown",
   "metadata": {},
   "source": [
    "##### Polling for Updates and Calling Functions\n"
   ]
  },
  {
   "cell_type": "code",
   "execution_count": 75,
   "metadata": {},
   "outputs": [
    {
     "name": "stdout",
     "output_type": "stream",
     "text": [
      "requires_action .....\n",
      "requires_action .....\n",
      "Status:  requires_action\n",
      "submit_tool_outputs\n",
      "{\"submit_tool_outputs\":{\"tool_calls\":[{\"id\":\"call_7zF7vVtDnPbCmnWBhtJls2PI\",\"function\":{\"arguments\":\"{\\\"longitude\\\":332,\\\"latitude\\\":2344,\\\"zoom\\\":6}\",\"name\":\"update_map\"},\"type\":\"function\"}]},\"type\":\"submit_tool_outputs\"}\n",
      "toolCalls present:\n"
     ]
    },
    {
     "ename": "TypeError",
     "evalue": "update_map() missing 1 required positional argument: 'map'",
     "output_type": "error",
     "traceback": [
      "\u001b[1;31m---------------------------------------------------------------------------\u001b[0m",
      "\u001b[1;31mTypeError\u001b[0m                                 Traceback (most recent call last)",
      "Cell \u001b[1;32mIn[75], line 30\u001b[0m\n\u001b[0;32m     24\u001b[0m     function_args \u001b[38;5;241m=\u001b[39m json\u001b[38;5;241m.\u001b[39mloads(toolcall\u001b[38;5;241m.\u001b[39mfunction\u001b[38;5;241m.\u001b[39marguments)\n\u001b[0;32m     26\u001b[0m     \u001b[38;5;28;01mif\u001b[39;00m function_name \u001b[38;5;129;01min\u001b[39;00m available_functions:\n\u001b[1;32m---> 30\u001b[0m             response \u001b[38;5;241m=\u001b[39m \u001b[43mfunction_to_call\u001b[49m\u001b[43m(\u001b[49m\u001b[43m \u001b[49m\u001b[38;5;241;43m*\u001b[39;49m\u001b[38;5;241;43m*\u001b[39;49m\u001b[43mfunction_args\u001b[49m\u001b[43m)\u001b[49m\n\u001b[0;32m     34\u001b[0m             tool_outputs\u001b[38;5;241m.\u001b[39mappend({\n\u001b[0;32m     35\u001b[0m                       \u001b[38;5;124m\"\u001b[39m\u001b[38;5;124mtool_call_id\u001b[39m\u001b[38;5;124m\"\u001b[39m: toolcall\u001b[38;5;241m.\u001b[39mid,\n\u001b[0;32m     36\u001b[0m                       \u001b[38;5;124m\"\u001b[39m\u001b[38;5;124moutput\u001b[39m\u001b[38;5;124m\"\u001b[39m: response\n\u001b[0;32m     37\u001b[0m                   })\n\u001b[0;32m     40\u001b[0m \u001b[38;5;28mprint\u001b[39m(tool_outputs,\u001b[38;5;124m\"\u001b[39m\u001b[38;5;124m>>>>>\u001b[39m\u001b[38;5;124m\"\u001b[39m) \n",
      "\u001b[1;31mTypeError\u001b[0m: update_map() missing 1 required positional argument: 'map'"
     ]
    }
   ],
   "source": [
    "import time\n",
    "\n",
    "  # Loop until the run completes or requires action\n",
    "while True:\n",
    "    runStatus = client.beta.threads.runs.retrieve(thread_id=thread.id,\n",
    "                                                  run_id=run.id)\n",
    "    # Add run steps retrieval here for debuging\n",
    "    run_steps = client.beta.threads.runs.steps.list(thread_id=thread.id, run_id=run.id)\n",
    "    # show_json(\"Run Steps:\", run_steps)\n",
    "    print(runStatus.status ,'.....')\n",
    "\n",
    "    # This means run is making a function call   \n",
    "    if runStatus.status == \"requires_action\":\n",
    "        print(runStatus.status ,'.....')\n",
    "        print(\"Status: \", \"requires_action\")\n",
    "        show_json(\"submit_tool_outputs\", runStatus.required_action)\n",
    "        if runStatus.required_action.submit_tool_outputs and runStatus.required_action.submit_tool_outputs.tool_calls:\n",
    "            print(\"toolCalls present:\")\n",
    "            toolCalls = runStatus.required_action.submit_tool_outputs.tool_calls\n",
    "\n",
    "            tool_outputs = []\n",
    "            for toolcall in toolCalls:\n",
    "                function_name = toolcall.function.name\n",
    "                function_args = json.loads(toolcall.function.arguments)\n",
    "                \n",
    "                if function_name in available_functions:\n",
    "                    \n",
    "                    \n",
    "                    \n",
    "                        response = function_to_call( **function_args)\n",
    "        \n",
    "                        \n",
    "                        \n",
    "                        tool_outputs.append({\n",
    "                                  \"tool_call_id\": toolcall.id,\n",
    "                                  \"output\": response\n",
    "                              })\n",
    "                    \n",
    "                    \n",
    "            print(tool_outputs,\">>>>>\") \n",
    "            # Submit tool outputs and update the run\n",
    "            client.beta.threads.runs.submit_tool_outputs(\n",
    "                thread_id=thread.id,\n",
    "                run_id=run.id,\n",
    "                tool_outputs=tool_outputs)\n",
    "      \n",
    "    elif runStatus.status == \"completed\":\n",
    "        # List the messages to get the response\n",
    "        print(\"completed...........logic\")\n",
    "        messages: list[ThreadMessage] = client.beta.threads.messages.list(thread_id=thread.id)\n",
    "        for message in messages.data:\n",
    "            role_label = \"User\" if message.role == \"user\" else \"Assistant\"\n",
    "            message_content = message.content[0].text.value\n",
    "            print(f\"{role_label}: {message_content}\\n\")\n",
    "        break  # Exit the loop after processing the completed run\n",
    "\n",
    "    elif run.status == \"failed\":\n",
    "      print(\"Run failed.\")\n",
    "      break\n",
    "\n",
    "    elif run.status in [\"in_progress\", \"queued\"]:\n",
    "      print(f\"Run is {run.status}. Waiting...\")\n",
    "      time.sleep(5)  # Wait for 5 seconds before checking again\n",
    "\n",
    "    else:\n",
    "      print(f\"Unexpected status: {run.status}\")\n",
    "      break\n",
    "\n",
    "\n"
   ]
  },
  {
   "cell_type": "code",
   "execution_count": null,
   "metadata": {},
   "outputs": [],
   "source": []
  }
 ],
 "metadata": {
  "kernelspec": {
   "display_name": "pythongenai",
   "language": "python",
   "name": "python3"
  },
  "language_info": {
   "codemirror_mode": {
    "name": "ipython",
    "version": 3
   },
   "file_extension": ".py",
   "mimetype": "text/x-python",
   "name": "python",
   "nbconvert_exporter": "python",
   "pygments_lexer": "ipython3",
   "version": "3.12.0"
  }
 },
 "nbformat": 4,
 "nbformat_minor": 2
}
