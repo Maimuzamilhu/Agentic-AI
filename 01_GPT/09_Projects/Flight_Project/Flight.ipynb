{
 "cells": [
  {
   "cell_type": "code",
   "execution_count": null,
   "metadata": {},
   "outputs": [],
   "source": [
    "from openai import OpenAI\n",
    "import json\n",
    "from dotenv import find_dotenv , load_dotenv\n",
    "import requests #to fetch\n",
    "import os\n",
    "\n",
    "_ : bool = load_dotenv(find_dotenv())"
   ]
  },
  {
   "cell_type": "code",
   "execution_count": null,
   "metadata": {},
   "outputs": [],
   "source": [
    "client : OpenAI = OpenAI()"
   ]
  },
  {
   "cell_type": "code",
   "execution_count": null,
   "metadata": {},
   "outputs": [],
   "source": [
    "key = os.environ[\"COINMARKET_API_KET\"]\n"
   ]
  },
  {
   "cell_type": "code",
   "execution_count": 1,
   "metadata": {},
   "outputs": [
    {
     "name": "stdout",
     "output_type": "stream",
     "text": [
      "{'Number of potholes': [], 'Number of speedbreakers:': []}\n"
     ]
    }
   ],
   "source": [
    "import requests\n",
    "\n",
    "url = \"https://raastaapi.p.rapidapi.com/get_intersection/24.91098,67.12646\"\n",
    "\n",
    "headers = {\n",
    "\t\"X-RapidAPI-Key\": \"96af82c73cmsh0406e17587959c7p1b70a8jsn8c8c26c1c6e7\",\n",
    "\t\"X-RapidAPI-Host\": \"raastaapi.p.rapidapi.com\"\n",
    "}\n",
    "\n",
    "response = requests.get(url, headers=headers)\n",
    "\n",
    "print(response.json())"
   ]
  },
  {
   "cell_type": "code",
   "execution_count": 4,
   "metadata": {},
   "outputs": [
    {
     "name": "stdout",
     "output_type": "stream",
     "text": [
      "{\"03 Apr 2024\": 235000.0, \"02 Apr 2024\": 232700.0, \"01 Apr 2024\": 232300.0, \"30 Mar 2024\": 232100.0, \"29 Mar 2024\": 232700.0, \"28 Mar 2024\": 230000.0, \"27 Mar 2024\": 227800.0, \"26 Mar 2024\": 227300.0, \"25 Mar 2024\": 226300.0, \"22 Mar 2024\": 225250.0, \"21 Mar 2024\": 223100.0, \"20 Mar 2024\": 224750.0, \"19 Mar 2024\": 224350.0, \"18 Mar 2024\": 224950.0, \"16 Mar 2024\": 225750.0, \"15 Mar 2024\": 225250.0, \"14 Mar 2024\": 225000.0, \"13 Mar 2024\": 224200.0, \"12 Mar 2024\": 224550.0, \"11 Mar 2024\": 224750.0, \"09 Mar 2024\": 226100.0, \"08 Mar 2024\": 225700.0, \"07 Mar 2024\": 225400.0, \"06 Mar 2024\": 223100.0, \"05 Mar 2024\": 223000.0, \"04 Mar 2024\": 221400.0, \"02 Mar 2024\": 222400.0, \"01 Mar 2024\": 221100.0, \"29 Feb 2024\": 220450.0, \"28 Feb 2024\": 220750.0}\n"
     ]
    }
   ],
   "source": [
    "import requests\n",
    "import json\n",
    "\n",
    "def get_gold_prices(api_key, period):\n",
    "    url = f\"https://gold-prices-pakistan.p.rapidapi.com/{period}\"\n",
    "    headers = {\n",
    "        \"X-RapidAPI-Key\": \"96af82c73cmsh0406e17587959c7p1b70a8jsn8c8c26c1c6e7\",\n",
    "        \"X-RapidAPI-Host\": \"gold-prices-pakistan.p.rapidapi.com\"\n",
    "    }\n",
    "    response = requests.get(url, headers=headers)\n",
    "    return json.dumps(response.json())\n",
    "\n",
    "# Usage\n",
    "api_key = \"96af82c73cmsh0406e17587959c7p1b70a8jsn8c8c26c1c6e7\"\n",
    "period = \"history\"  # or any other endpoint you wish to use\n",
    "print(get_gold_prices(api_key, period))\n"
   ]
  },
  {
   "cell_type": "code",
   "execution_count": 5,
   "metadata": {},
   "outputs": [
    {
     "name": "stdout",
     "output_type": "stream",
     "text": [
      "{'p_dist': [2.560411157440499], 'p_loc': [24.8129479], 's_dist': [2.5758136385703927], 's_loc': [67.1293595]}\n"
     ]
    }
   ],
   "source": [
    "import requests\n",
    "\n",
    "url = \"https://raastaapi.p.rapidapi.com/get_nearest_neighbor/27.5,67.5\"\n",
    "\n",
    "headers = {\n",
    "\t\"X-RapidAPI-Key\": \"96af82c73cmsh0406e17587959c7p1b70a8jsn8c8c26c1c6e7\",\n",
    "\t\"X-RapidAPI-Host\": \"raastaapi.p.rapidapi.com\"\n",
    "}\n",
    "\n",
    "response = requests.get(url, headers=headers)\n",
    "\n",
    "print(response.json())"
   ]
  },
  {
   "cell_type": "code",
   "execution_count": 10,
   "metadata": {},
   "outputs": [
    {
     "ename": "KeyError",
     "evalue": "'data'",
     "output_type": "error",
     "traceback": [
      "\u001b[1;31m---------------------------------------------------------------------------\u001b[0m",
      "\u001b[1;31mKeyError\u001b[0m                                  Traceback (most recent call last)",
      "Cell \u001b[1;32mIn[10], line 30\u001b[0m\n\u001b[0;32m     28\u001b[0m \u001b[38;5;66;03m# Usage\u001b[39;00m\n\u001b[0;32m     29\u001b[0m api_key \u001b[38;5;241m=\u001b[39m \u001b[38;5;124m'\u001b[39m\u001b[38;5;124myour_api_key_here\u001b[39m\u001b[38;5;124m'\u001b[39m\n\u001b[1;32m---> 30\u001b[0m \u001b[38;5;28mprint\u001b[39m(\u001b[43mget_cryptocurrency_listings\u001b[49m\u001b[43m(\u001b[49m\u001b[43mapi_key\u001b[49m\u001b[43m,\u001b[49m\u001b[43m \u001b[49m\u001b[38;5;124;43m\"\u001b[39;49m\u001b[38;5;124;43mBitcoin\u001b[39;49m\u001b[38;5;124;43m\"\u001b[39;49m\u001b[43m,\u001b[49m\u001b[43m \u001b[49m\u001b[38;5;124;43m\"\u001b[39;49m\u001b[38;5;124;43mBTC\u001b[39;49m\u001b[38;5;124;43m\"\u001b[39;49m\u001b[43m,\u001b[49m\u001b[43m \u001b[49m\u001b[38;5;124;43m\"\u001b[39;49m\u001b[38;5;124;43m50000\u001b[39;49m\u001b[38;5;124;43m\"\u001b[39;49m\u001b[43m)\u001b[49m)\n",
      "Cell \u001b[1;32mIn[10], line 23\u001b[0m, in \u001b[0;36mget_cryptocurrency_listings\u001b[1;34m(api_key, name, symbol, price)\u001b[0m\n\u001b[0;32m     21\u001b[0m     data \u001b[38;5;241m=\u001b[39m json\u001b[38;5;241m.\u001b[39mloads(response\u001b[38;5;241m.\u001b[39mtext)\n\u001b[0;32m     22\u001b[0m     \u001b[38;5;66;03m# Filter the data based on the 'name', 'symbol', and 'price' arguments\u001b[39;00m\n\u001b[1;32m---> 23\u001b[0m     filtered_data \u001b[38;5;241m=\u001b[39m [coin \u001b[38;5;28;01mfor\u001b[39;00m coin \u001b[38;5;129;01min\u001b[39;00m \u001b[43mdata\u001b[49m\u001b[43m[\u001b[49m\u001b[38;5;124;43m'\u001b[39;49m\u001b[38;5;124;43mdata\u001b[39;49m\u001b[38;5;124;43m'\u001b[39;49m\u001b[43m]\u001b[49m \u001b[38;5;28;01mif\u001b[39;00m coin[\u001b[38;5;124m'\u001b[39m\u001b[38;5;124mname\u001b[39m\u001b[38;5;124m'\u001b[39m] \u001b[38;5;241m==\u001b[39m name \u001b[38;5;129;01mor\u001b[39;00m coin[\u001b[38;5;124m'\u001b[39m\u001b[38;5;124msymbol\u001b[39m\u001b[38;5;124m'\u001b[39m] \u001b[38;5;241m==\u001b[39m symbol \u001b[38;5;129;01mor\u001b[39;00m \u001b[38;5;28mstr\u001b[39m(coin[\u001b[38;5;124m'\u001b[39m\u001b[38;5;124mquote\u001b[39m\u001b[38;5;124m'\u001b[39m][\u001b[38;5;124m'\u001b[39m\u001b[38;5;124mUSD\u001b[39m\u001b[38;5;124m'\u001b[39m][\u001b[38;5;124m'\u001b[39m\u001b[38;5;124mprice\u001b[39m\u001b[38;5;124m'\u001b[39m]) \u001b[38;5;241m==\u001b[39m price]\n\u001b[0;32m     24\u001b[0m     \u001b[38;5;28;01mreturn\u001b[39;00m filtered_data\n\u001b[0;32m     25\u001b[0m \u001b[38;5;28;01mexcept\u001b[39;00m (\u001b[38;5;167;01mConnectionError\u001b[39;00m, Timeout, TooManyRedirects) \u001b[38;5;28;01mas\u001b[39;00m e:\n",
      "\u001b[1;31mKeyError\u001b[0m: 'data'"
     ]
    }
   ],
   "source": [
    "import requests\n",
    "from requests.exceptions import ConnectionError, Timeout, TooManyRedirects\n",
    "import json\n",
    "\n",
    "def get_cryptocurrency_listings(api_key, name, symbol, price):\n",
    "    url = 'https://pro-api.coinmarketcap.com/v1/cryptocurrency/listings/latest'\n",
    "    parameters = {\n",
    "        'start': '1',\n",
    "        'limit': '10',\n",
    "        'convert': 'USD'\n",
    "    }\n",
    "    headers = {\n",
    "        'Accepts': 'application/json',\n",
    "        'X-CMC_PRO_API_KEY': api_key,\n",
    "    }\n",
    "\n",
    "    try:\n",
    "        session = requests.Session()\n",
    "        session.headers.update(headers)\n",
    "        response = session.get(url, params=parameters)\n",
    "        data = json.loads(response.text)\n",
    "        # Filter the data based on the 'name', 'symbol', and 'price' arguments\n",
    "        filtered_data = [coin for coin in data['data'] if coin['name'] == name or coin['symbol'] == symbol or str(coin['quote']['USD']['price']) == price]\n",
    "        return filtered_data\n",
    "    except (ConnectionError, Timeout, TooManyRedirects) as e:\n",
    "        return str(e)\n",
    "\n",
    "# Usage\n",
    "api_key = 'your_api_key_here'\n",
    "print(get_cryptocurrency_listings(api_key, \"Bitcoin\", \"BTC\", \"50000\"))\n"
   ]
  },
  {
   "cell_type": "code",
   "execution_count": null,
   "metadata": {},
   "outputs": [],
   "source": []
  }
 ],
 "metadata": {
  "kernelspec": {
   "display_name": "myfastapienv",
   "language": "python",
   "name": "python3"
  },
  "language_info": {
   "codemirror_mode": {
    "name": "ipython",
    "version": 3
   },
   "file_extension": ".py",
   "mimetype": "text/x-python",
   "name": "python",
   "nbconvert_exporter": "python",
   "pygments_lexer": "ipython3",
   "version": "3.12.0"
  }
 },
 "nbformat": 4,
 "nbformat_minor": 2
}
