{
 "cells": [
  {
   "cell_type": "code",
   "execution_count": null,
   "metadata": {},
   "outputs": [],
   "source": [
    "from openai import OpenAI\n",
    "\n",
    "client = OpenAI()\n",
    "\n",
    "response = client.audio.speech.create(\n",
    "    model=\"tts-1\",\n",
    "    voice=\"alloy\",\n",
    "    input=\"Hello world! This is a streaming test.\",\n",
    ")\n",
    "\n",
    "response.stream_to_file(\"streaming.mp3\")"
   ]
  },
  {
   "cell_type": "code",
   "execution_count": null,
   "metadata": {},
   "outputs": [],
   "source": [
    "import openai\n",
    "import textwrap\n",
    "\n",
    "import docx\n",
    "\n",
    "# Load the Word document\n",
    "doc = docx.Document('your_document.docx')\n",
    "text = \"\"\n",
    "for para in doc.paragraphs:\n",
    "    text += para.text\n",
    "\n",
    "# Now you have the text variable which you can use with the Text-to-Speech API\n",
    "\n",
    "\n",
    "# Your OpenAI API key\n",
    "openai.api_key = 'your-api-key'\n",
    "\n",
    "# Function to split text into chunks\n",
    "def split_text(text, chunk_size=4000):\n",
    "    return textwrap.wrap(text, chunk_size, replace_whitespace=False)\n",
    "\n",
    "# Function to convert text chunks to speech\n",
    "def text_to_speech(text_chunks):\n",
    "    for i, chunk in enumerate(text_chunks):\n",
    "        response = openai.Audio.create(\n",
    "            model=\"tts-1\",\n",
    "            voice=\"alloy\",\n",
    "            input=chunk\n",
    "        )\n",
    "        # Save the audio response as an MP3 file\n",
    "        with open(f\"speech_chunk_{i}.mp3\", \"wb\") as audio_file:\n",
    "            audio_file.write(response[\"data\"])\n",
    "\n",
    "# Your large text\n",
    "large_text = \"Your large text over 100,000 characters goes here...\"\n",
    "\n",
    "# Split the large text into chunks\n",
    "text_chunks = split_text(large_text)\n",
    "\n",
    "# Convert text chunks to speech\n",
    "text_to_speech(text_chunks)\n"
   ]
  }
 ],
 "metadata": {
  "kernelspec": {
   "display_name": "pythongenai",
   "language": "python",
   "name": "python3"
  },
  "language_info": {
   "name": "python",
   "version": "3.12.0"
  }
 },
 "nbformat": 4,
 "nbformat_minor": 2
}
