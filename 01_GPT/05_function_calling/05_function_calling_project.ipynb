{
 "cells": [
  {
   "cell_type": "markdown",
   "metadata": {},
   "source": [
    "### CONNCECT WITH DATABASE"
   ]
  },
  {
   "cell_type": "code",
   "execution_count": 2,
   "metadata": {},
   "outputs": [
    {
     "name": "stdout",
     "output_type": "stream",
     "text": [
      "Requirement already satisfied: mysql in c:\\users\\pmls\\.conda\\envs\\pythongenai\\lib\\site-packages (0.0.3)\n",
      "Requirement already satisfied: mysqlclient in c:\\users\\pmls\\.conda\\envs\\pythongenai\\lib\\site-packages (from mysql) (2.2.1)\n",
      "Note: you may need to restart the kernel to use updated packages.\n"
     ]
    }
   ],
   "source": [
    "%pip install mysql"
   ]
  },
  {
   "cell_type": "code",
   "execution_count": 4,
   "metadata": {},
   "outputs": [
    {
     "ename": "ModuleNotFoundError",
     "evalue": "No module named 'mysql'",
     "output_type": "error",
     "traceback": [
      "\u001b[1;31m---------------------------------------------------------------------------\u001b[0m",
      "\u001b[1;31mModuleNotFoundError\u001b[0m                       Traceback (most recent call last)",
      "Cell \u001b[1;32mIn[4], line 1\u001b[0m\n\u001b[1;32m----> 1\u001b[0m \u001b[38;5;28;01mimport\u001b[39;00m \u001b[38;5;21;01mmysql\u001b[39;00m\u001b[38;5;21;01m.\u001b[39;00m\u001b[38;5;21;01mconnector\u001b[39;00m\n\u001b[0;32m      3\u001b[0m \u001b[38;5;28;01mdef\u001b[39;00m \u001b[38;5;21mget_db_cursor\u001b[39m():\n\u001b[0;32m      4\u001b[0m     \u001b[38;5;66;03m# Open database connection\u001b[39;00m\n\u001b[0;32m      5\u001b[0m     db \u001b[38;5;241m=\u001b[39m mysql\u001b[38;5;241m.\u001b[39mconnector\u001b[38;5;241m.\u001b[39mconnect(\n\u001b[0;32m      6\u001b[0m         host\u001b[38;5;241m=\u001b[39m\u001b[38;5;124m\"\u001b[39m\u001b[38;5;124mlocalhost\u001b[39m\u001b[38;5;124m\"\u001b[39m,\n\u001b[0;32m      7\u001b[0m         user\u001b[38;5;241m=\u001b[39m\u001b[38;5;124m\"\u001b[39m\u001b[38;5;124mroot\u001b[39m\u001b[38;5;124m\"\u001b[39m,\n\u001b[0;32m      8\u001b[0m         password\u001b[38;5;241m=\u001b[39m\u001b[38;5;124m\"\u001b[39m\u001b[38;5;124mroot\u001b[39m\u001b[38;5;124m\"\u001b[39m,\n\u001b[0;32m      9\u001b[0m         database\u001b[38;5;241m=\u001b[39m\u001b[38;5;124m\"\u001b[39m\u001b[38;5;124matliq_college_db\u001b[39m\u001b[38;5;124m\"\u001b[39m\n\u001b[0;32m     10\u001b[0m     )\n",
      "\u001b[1;31mModuleNotFoundError\u001b[0m: No module named 'mysql'"
     ]
    }
   ],
   "source": [
    "import mysql.connector\n",
    "\n",
    "def get_db_cursor():\n",
    "    # Open database connection\n",
    "    db = mysql.connector.connect(\n",
    "        host=\"localhost\",\n",
    "        user=\"root\",\n",
    "        password=\"root\",\n",
    "        database=\"atliq_college_db\"\n",
    "    )\n",
    "\n",
    "    # Create a new cursor instance\n",
    "    cursor = db.cursor()\n",
    "\n",
    "    return db, cursor\n",
    "\n",
    "\n",
    "def close_db_connection(db, cursor):\n",
    "    # disconnect from server\n",
    "    cursor.close()\n",
    "    db.close()\n",
    "\n",
    "\n",
    "def get_marks(params):\n",
    "    db, cursor = get_db_cursor()\n",
    "    cursor.callproc('get_marks', [params.get('student_name', ''), params.get('semester', ''), params.get('operation', '')])\n",
    "    result = None\n",
    "    for res in cursor.stored_results():\n",
    "        result = float(res.fetchone()[0])  # Fetch the first column of the first row\n",
    "    close_db_connection(db, cursor)\n",
    "    return result\n",
    "\n",
    "\n",
    "def get_fees(params):\n",
    "    db, cursor = get_db_cursor()\n",
    "    cursor.callproc('get_fees', [params.get('student_name', ''), params.get('semester', ''), params.get('fees_type', '')])\n",
    "    result = None\n",
    "    for res in cursor.stored_results():\n",
    "        result = float(res.fetchone()[0])  # Fetch the first column of the first row\n",
    "    close_db_connection(db, cursor)\n",
    "    return result\n",
    "\n",
    "\n",
    "if __name__ == \"__main__\":\n",
    "    print(get_marks({\n",
    "        'semester': 4,\n",
    "        'operation': 'avg'\n",
    "    }))\n",
    "\n",
    "    print(get_fees({\n",
    "        'student_name': \"Peter Pandey\",\n",
    "        'semester': 1,\n",
    "        'fees_type': 'paid'\n",
    "    }))"
   ]
  }
 ],
 "metadata": {
  "kernelspec": {
   "display_name": "pythongenai",
   "language": "python",
   "name": "python3"
  },
  "language_info": {
   "codemirror_mode": {
    "name": "ipython",
    "version": 3
   },
   "file_extension": ".py",
   "mimetype": "text/x-python",
   "name": "python",
   "nbconvert_exporter": "python",
   "pygments_lexer": "ipython3",
   "version": "3.12.0"
  }
 },
 "nbformat": 4,
 "nbformat_minor": 2
}
