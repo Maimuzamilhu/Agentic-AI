{
 "cells": [
  {
   "cell_type": "markdown",
   "metadata": {},
   "source": [
    "### Read\n",
    "\n",
    "https://ai.google.dev/tutorials/python_quickstart"
   ]
  },
  {
   "cell_type": "code",
   "execution_count": 3,
   "metadata": {},
   "outputs": [
    {
     "name": "stdout",
     "output_type": "stream",
     "text": [
      "Note: you may need to restart the kernel to use updated packages.\n"
     ]
    },
    {
     "name": "stderr",
     "output_type": "stream",
     "text": [
      "WARNING: Ignoring invalid distribution ~treamlit (c:\\Users\\PMLS\\.conda\\envs\\pythongenai\\Lib\\site-packages)\n",
      "WARNING: Ignoring invalid distribution ~treamlit (c:\\Users\\PMLS\\.conda\\envs\\pythongenai\\Lib\\site-packages)\n"
     ]
    }
   ],
   "source": [
    "pip install -q -U google-generativeai"
   ]
  },
  {
   "cell_type": "markdown",
   "metadata": {},
   "source": [
    "### Import Google generative ai and important libraries"
   ]
  },
  {
   "cell_type": "code",
   "execution_count": 4,
   "metadata": {},
   "outputs": [
    {
     "name": "stderr",
     "output_type": "stream",
     "text": [
      "c:\\Users\\PMLS\\.conda\\envs\\pythongenai\\Lib\\site-packages\\tqdm\\auto.py:21: TqdmWarning: IProgress not found. Please update jupyter and ipywidgets. See https://ipywidgets.readthedocs.io/en/stable/user_install.html\n",
      "  from .autonotebook import tqdm as notebook_tqdm\n"
     ]
    }
   ],
   "source": [
    "import pathlib\n",
    "import textwrap\n",
    "import google.generativeai as genai\n",
    "import PIL.Image\n",
    "import os\n",
    "\n",
    "from IPython.display import display\n",
    "from IPython.display import Markdown\n",
    "\n",
    "def to_markdown(text):\n",
    "    text = text.replace(\"+\" , \"*\")\n",
    "    return Markdown(textwrap.indent(text , \">\" , predicate=lambda _ : True))"
   ]
  },
  {
   "cell_type": "code",
   "execution_count": 5,
   "metadata": {},
   "outputs": [],
   "source": [
    "import os\n",
    "from dotenv import load_dotenv\n",
    "\n",
    "load_dotenv()  # This loads the .env file and sets the environment variables\n",
    "\n",
    "# Now you can fetch the GOOGLE_API_KEY using square brackets\n",
    "api_key = os.environ['GOOGLE_API_KEY']\n",
    "genai.configure(api_key=api_key)\n"
   ]
  },
  {
   "cell_type": "markdown",
   "metadata": {},
   "source": [
    "#### Check the Available Model"
   ]
  },
  {
   "cell_type": "code",
   "execution_count": 6,
   "metadata": {},
   "outputs": [
    {
     "name": "stdout",
     "output_type": "stream",
     "text": [
      "models/gemini-1.0-pro\n",
      "models/gemini-1.0-pro-001\n",
      "models/gemini-1.0-pro-latest\n",
      "models/gemini-1.0-pro-vision-latest\n",
      "models/gemini-pro\n",
      "models/gemini-pro-vision\n"
     ]
    }
   ],
   "source": [
    "for m in genai.list_models():\n",
    "    if 'generateContent' in m.supported_generation_methods:\n",
    "        print(m.name)"
   ]
  },
  {
   "cell_type": "markdown",
   "metadata": {},
   "source": [
    "### Generate text from text inputs"
   ]
  },
  {
   "cell_type": "code",
   "execution_count": 7,
   "metadata": {},
   "outputs": [
    {
     "name": "stdout",
     "output_type": "stream",
     "text": [
      "**What is Weather?**\n",
      "\n",
      "Weather refers to the short-term state of the Earth's atmosphere in a specific place and time. It includes variables such as temperature, humidity, precipitation, wind speed and direction, and cloud cover.\n",
      "\n",
      "**Factors Influencing Weather:**\n",
      "\n",
      "* **Solar Radiation:** The Sun's energy heats the Earth's surface and atmosphere, driving weather systems.\n",
      "* **Earth's Rotation:** The rotation of the Earth creates the Coriolis effect, which influences wind patterns.\n",
      "* **Atmospheric Pressure:** Differences in air pressure between different regions create wind and pressure gradients.\n",
      "* **Moisture:** Water vapor in the atmosphere can condense to form clouds and precipitation.\n",
      "* **Air Masses:** Large bodies of air with similar temperature and moisture characteristics affect weather patterns.\n",
      "* **Fronts:** Boundaries between different air masses can create changes in weather, such as precipitation and wind.\n",
      "\n",
      "**Types of Weather Conditions:**\n",
      "\n",
      "* **Sunny:** Clear skies with little or no cloud cover.\n",
      "* **Partly Cloudy:** Skies with a mix of clouds and clear areas.\n",
      "* **Cloudy:** Skies with mostly or completely overcast clouds.\n",
      "* **Rainy:** Precipitation in the form of liquid water droplets.\n",
      "* **Snowy:** Precipitation in the form of frozen water crystals.\n",
      "* **Foggy:** Visibility is reduced due to water vapor condensation.\n",
      "* **Windy:** Strong winds are present.\n",
      "* **Thunderstorms:** Intense rain or snowfall accompanied by lightning and thunder.\n",
      "* **Hurricanes:** Tropical cyclones with high winds and heavy rainfall.\n",
      "\n",
      "**Importance of Weather:**\n",
      "\n",
      "Weather has a significant impact on human activities, including:\n",
      "\n",
      "* **Agriculture:** Crop production and livestock management depend on favorable weather conditions.\n",
      "* **Transportation:** Extreme weather events (e.g., storms, fog) can disrupt air, land, and sea travel.\n",
      "* **Energy Production:** Wind and solar power generation rely on predictable weather patterns.\n",
      "* **Human Health:** Heatwaves, cold snaps, and air pollution can affect physical and mental well-being.\n",
      "* **Ecosystems:** Weather influences plant and animal life, as well as the distribution of species.\n",
      "\n",
      "**Weather Forecasting:**\n",
      "\n",
      "Meteorologists use a variety of tools and methods to predict future weather conditions, including:\n",
      "\n",
      "* **Observations:** Collecting data from weather stations, satellites, and balloons.\n",
      "* **Computer Models:** Predicting weather patterns using complex mathematical models.\n",
      "* **Forecasts:** Issuing weather predictions based on the analysis of observations and model data.\n"
     ]
    },
    {
     "data": {
      "text/plain": [
       "safety_ratings {\n",
       "  category: HARM_CATEGORY_SEXUALLY_EXPLICIT\n",
       "  probability: NEGLIGIBLE\n",
       "}\n",
       "safety_ratings {\n",
       "  category: HARM_CATEGORY_HATE_SPEECH\n",
       "  probability: NEGLIGIBLE\n",
       "}\n",
       "safety_ratings {\n",
       "  category: HARM_CATEGORY_HARASSMENT\n",
       "  probability: NEGLIGIBLE\n",
       "}\n",
       "safety_ratings {\n",
       "  category: HARM_CATEGORY_DANGEROUS_CONTENT\n",
       "  probability: NEGLIGIBLE\n",
       "}"
      ]
     },
     "execution_count": 7,
     "metadata": {},
     "output_type": "execute_result"
    }
   ],
   "source": [
    "## For text prompt we use gemini pro\n",
    "model = genai.GenerativeModel('gemini-pro') #load model\n",
    "\n",
    "\n",
    "response = model.generate_content(\"Tell me about weather\" )\n",
    "\n",
    "print(response.text)\n",
    "\n",
    "response.prompt_feedback #Check if conent is Harmfull"
   ]
  },
  {
   "cell_type": "code",
   "execution_count": 8,
   "metadata": {},
   "outputs": [
    {
     "data": {
      "text/plain": [
       "[index: 0\n",
       "content {\n",
       "  parts {\n",
       "    text: \"**What is Weather?**\\n\\nWeather refers to the short-term state of the Earth\\'s atmosphere in a specific place and time. It includes variables such as temperature, humidity, precipitation, wind speed and direction, and cloud cover.\\n\\n**Factors Influencing Weather:**\\n\\n* **Solar Radiation:** The Sun\\'s energy heats the Earth\\'s surface and atmosphere, driving weather systems.\\n* **Earth\\'s Rotation:** The rotation of the Earth creates the Coriolis effect, which influences wind patterns.\\n* **Atmospheric Pressure:** Differences in air pressure between different regions create wind and pressure gradients.\\n* **Moisture:** Water vapor in the atmosphere can condense to form clouds and precipitation.\\n* **Air Masses:** Large bodies of air with similar temperature and moisture characteristics affect weather patterns.\\n* **Fronts:** Boundaries between different air masses can create changes in weather, such as precipitation and wind.\\n\\n**Types of Weather Conditions:**\\n\\n* **Sunny:** Clear skies with little or no cloud cover.\\n* **Partly Cloudy:** Skies with a mix of clouds and clear areas.\\n* **Cloudy:** Skies with mostly or completely overcast clouds.\\n* **Rainy:** Precipitation in the form of liquid water droplets.\\n* **Snowy:** Precipitation in the form of frozen water crystals.\\n* **Foggy:** Visibility is reduced due to water vapor condensation.\\n* **Windy:** Strong winds are present.\\n* **Thunderstorms:** Intense rain or snowfall accompanied by lightning and thunder.\\n* **Hurricanes:** Tropical cyclones with high winds and heavy rainfall.\\n\\n**Importance of Weather:**\\n\\nWeather has a significant impact on human activities, including:\\n\\n* **Agriculture:** Crop production and livestock management depend on favorable weather conditions.\\n* **Transportation:** Extreme weather events (e.g., storms, fog) can disrupt air, land, and sea travel.\\n* **Energy Production:** Wind and solar power generation rely on predictable weather patterns.\\n* **Human Health:** Heatwaves, cold snaps, and air pollution can affect physical and mental well-being.\\n* **Ecosystems:** Weather influences plant and animal life, as well as the distribution of species.\\n\\n**Weather Forecasting:**\\n\\nMeteorologists use a variety of tools and methods to predict future weather conditions, including:\\n\\n* **Observations:** Collecting data from weather stations, satellites, and balloons.\\n* **Computer Models:** Predicting weather patterns using complex mathematical models.\\n* **Forecasts:** Issuing weather predictions based on the analysis of observations and model data.\"\n",
       "  }\n",
       "  role: \"model\"\n",
       "}\n",
       "finish_reason: STOP\n",
       "safety_ratings {\n",
       "  category: HARM_CATEGORY_SEXUALLY_EXPLICIT\n",
       "  probability: NEGLIGIBLE\n",
       "}\n",
       "safety_ratings {\n",
       "  category: HARM_CATEGORY_HATE_SPEECH\n",
       "  probability: NEGLIGIBLE\n",
       "}\n",
       "safety_ratings {\n",
       "  category: HARM_CATEGORY_HARASSMENT\n",
       "  probability: NEGLIGIBLE\n",
       "}\n",
       "safety_ratings {\n",
       "  category: HARM_CATEGORY_DANGEROUS_CONTENT\n",
       "  probability: NEGLIGIBLE\n",
       "}\n",
       "]"
      ]
     },
     "execution_count": 8,
     "metadata": {},
     "output_type": "execute_result"
    }
   ],
   "source": [
    "response.candidates"
   ]
  },
  {
   "cell_type": "markdown",
   "metadata": {},
   "source": [
    "##### Streaming"
   ]
  },
  {
   "cell_type": "code",
   "execution_count": 9,
   "metadata": {},
   "outputs": [
    {
     "name": "stdout",
     "output_type": "stream",
     "text": [
      "**Future of Generative AI**\n",
      "\n",
      "Generative AI has seen significant advancements in\n",
      " recent years and is poised to transform numerous industries and applications. Here are key aspects that shape its future:\n",
      "\n",
      "**1. Enhanced Creativity and Innovation:**\n",
      "\n",
      "*\n",
      " Generative AI will empower artists, designers, and content creators to generate novel ideas, expand their creative boundaries, and produce unique content.\n",
      "\n",
      "**2. Personalized Experiences:**\n",
      "\n",
      "* By leveraging user data and preferences, generative AI will tailor recommendations, optimize user interfaces, and create personalized content that caters to individual needs.\n",
      "\n",
      "\n",
      "**3. Improved Efficiency and Automation:**\n",
      "\n",
      "* Generative AI will automate tasks traditionally requiring human effort, such as text and code generation, image and video editing, and research.\n",
      "\n",
      "**4. Advanced Healthcare Applications:**\n",
      "\n",
      "* Generative AI holds immense promise for drug discovery, disease diagnosis, and personalized treatment plans, leading to improved patient outcomes.\n",
      "\n",
      "**5. Ethical Considerations:**\n",
      "\n",
      "* As generative AI grows more powerful, ethical concerns arise regarding copyright, biases, and potential misuse. Addressing these issues will be crucial for its responsible adoption.\n",
      "\n",
      "**6. Integration with Existing Technologies:**\n",
      "\n",
      "* Generative AI will seamlessly integrate with other\n",
      " AI technologies, such as natural language processing, computer vision, and machine learning, enhancing their capabilities and opening up new possibilities.\n",
      "\n",
      "**7. Cloud-Based Access and Collaboration:**\n",
      "\n",
      "* Cloud platforms will provide convenient access to generative AI models, fostering collaboration and enabling researchers and developers to build innovative applications.\n",
      "\n",
      "**8. Advances in Deep Learning:**\n",
      "\n",
      "* Ongoing progress in deep learning algorithms will drive further improvements in generative AI's performance, enabling more accurate and diverse content generation.\n",
      "\n",
      "**9. Focus on Domain-Specific Applications:**\n",
      "\n",
      "* Generative AI will become increasingly specialized, tailored to specific industries and domains, such as finance, healthcare, and manufacturing.\n",
      "\n",
      "**10. Accessibility and Democratization:**\n",
      "\n",
      "* Efforts to make generative AI more accessible and user-friendly will expand its reach beyond technical experts, empowering a broader range of users to unlock its benefits.\n",
      "\n",
      "**Conclusion:**\n",
      "\n",
      "The future of generative AI looks bright with numerous opportunities for innovation and transformation. As technology advances and ethical considerations are addressed, generative AI will continue to reshape industries and create unprecedented possibilities in various domains.\n"
     ]
    }
   ],
   "source": [
    "response = model.generate_content(\"Can you let me know about future of generative ai\" , stream=True )\n",
    "\n",
    "for chunk in response:\n",
    "    print(chunk.text)  "
   ]
  },
  {
   "cell_type": "markdown",
   "metadata": {},
   "source": [
    "##### Generate Text from Image and Text inputs"
   ]
  },
  {
   "cell_type": "code",
   "execution_count": 10,
   "metadata": {},
   "outputs": [
    {
     "name": "stdout",
     "output_type": "stream",
     "text": [
      " **Curriculum Vitae**\n",
      "\n",
      "**Personal Data**\n",
      "\n",
      "Surname, first name:\tPotzner, Andreas Marcus\n",
      "Address:\tKastelsstr. 1-5 65193 Wiesbaden; Germany\n",
      "Telephone:\t+49 (0) 611/590 55 40\n",
      "Mobil:\t+49 (0) 175/590 55 40\n",
      "Date of birth:\t08.09.1978\n",
      "Place of birth:\tHanau; Germany\n",
      "Marital status:\tsingle\n",
      "E-mail:\ta.potzner@ebs.uni-potsdam.de\n",
      "\n",
      "**Education**\n",
      "\n",
      "since 10/04\tEuropean Business School (ebs) International University Schloss Reichartshausen, Oestrich-Winkel (Germany)\n",
      "Postgraduate Assistant to the SVI-Endowed Chair of Purchasing, Logistics and Supply Chain Management, Supply Management Institute (SMI)\n",
      "Strive for the degree: Dr. rer. pol. (April 2007)\n",
      "\n",
      "10/99 – 05/04\tJohann Wolfgang Goethe-Universität, Frankfurt (Germany)\n",
      "Degree in Business Administration (Diplom-Kaufmann)\n",
      "Majors: Supply Chain Management & Marketing, Business Informatics\n",
      "Grade: 1.8 (passed with distinction)\n",
      "\n",
      "08/89 – 06/98\tKopernikusschule, Freigericht (Germany)\n",
      "A-levels (high school graduation)\n",
      "Grade: 2.2\n",
      "\n",
      "**Research Focuses / Title of Dissertation**\n",
      "\n",
      "Focuses\tInnovation management, Supply chain management, Aviation industry\n",
      "Title\tInnovation Management along the Supply Chain of the European Aviation Industry\n",
      "\n",
      "**Teaching**\n",
      "\n",
      "since 03/06\tInnovations along the Supply Chain\n",
      "03/05 – 06/05\tLogistics & Supply Chain Management\n",
      "03/05 – 06/05\tCase Studies\n",
      "Seminar papers\n",
      "\n",
      "**Publications**\n",
      "\n",
      "10/05\tJahns, Ch. and Potzner, A.: Innovationskooperationen in der Supply Chain.\n",
      "In: Blickpunkt Einkauf, 10/2005.\n",
      "\n",
      "09/05\tJahns, Ch., Potzner, A. and Potzer, K.-H.: Wohem kommt eigentlich der Begriff Supply Chain Event Management?\n",
      "In: News und Trendletter Logistik, Forum Geb GmbH, Vol. 3, 2005.\n",
      "\n",
      "07/05\tPotzner, A.: Woer kommt eigentlich der Begriff Bullwhip-Effekt?\n",
      "In: News und Trendletter Logistik, Forum Geb GmbH, Vol. 2, 2005.\n"
     ]
    }
   ],
   "source": [
    "ImG = PIL.Image.open(\"R.jpg\")\n",
    "model = genai.GenerativeModel(\"gemini-pro-vision\") #load\n",
    "\n",
    "response = model.generate_content(ImG)\n",
    "\n",
    "print(response.text)\n",
    "\n"
   ]
  },
  {
   "cell_type": "markdown",
   "metadata": {},
   "source": [
    "##### Ask Question from Image"
   ]
  },
  {
   "cell_type": "code",
   "execution_count": 11,
   "metadata": {},
   "outputs": [
    {
     "name": "stdout",
     "output_type": "stream",
     "text": [
      " Personal data\n",
      "Surname, first name:\tPotrzner, Andras Marcus\n",
      "Address:\tKastellstrasse 1-5 65183 Wiesbaden; Germany\n",
      "Telephone:\t+49 (0)611/532 46 57\n",
      "Mobil:\t+49 (0) 175/590 55 40\n",
      "Date of birth:\t08.09.1978\n",
      "Place of birth:\tHanau; Germany\n",
      "Marital status:\tsingle\n",
      "E-mail:\ta.potrner@supplyinstitute.org\n",
      "\n",
      "Education\n",
      "since 10/04\tEuropean Business School (ebs) International University Schloss Reichartshausen, Oestrich-Winkel (Germany)\n",
      "Postgraduate Assistant to the SVI-Endowed Chair of Purchasing, Logistics and Supply Chain Management, Supply Management Institute (SMI)\n",
      "Strive for the degree: Dr. rer. pol. (April 2007)\n",
      "\n",
      "10/99-05/04\tJohann Wolfgang Goethe-Universität, Frankfurt (Germany)\n",
      "Degree in Business Administration (Diplom-Kaufmann)\n",
      "Majors: Supply Chain Management & Marketing, Business Informatics\n",
      "Grade: 1,8 (passed with distinction)\n",
      "\n",
      "08/89-06/98\tKopernikusschule, Friedrichsdorf (Germany)\n",
      "A-levels (high school graduation)\n",
      "Grade: 2,2\n",
      "\n",
      "Research Focuses / Title of Dissertation\n",
      "Focuses\tInnovation management along the supply chain of the European Aviation Industry\n",
      "Title\tInnovations along the Supply Chain\n"
     ]
    }
   ],
   "source": [
    "ImG = PIL.Image.open(\"R.jpg\")\n",
    "model = genai.GenerativeModel(\"gemini-pro-vision\") #load\n",
    "\n",
    "response = model.generate_content([\"Tell me what you can see in the left side of picture\", ImG] )\n",
    "\n",
    "\n",
    "print(response.text)\n",
    "\n"
   ]
  },
  {
   "cell_type": "markdown",
   "metadata": {},
   "source": [
    "##### Chat Conversations"
   ]
  },
  {
   "cell_type": "code",
   "execution_count": 12,
   "metadata": {},
   "outputs": [
    {
     "name": "stdout",
     "output_type": "stream",
     "text": [
      "Hello there! How can I help you today?\n"
     ]
    },
    {
     "data": {
      "text/plain": [
       "[parts {\n",
       "   text: \"Hello\"\n",
       " }\n",
       " role: \"user\",\n",
       " parts {\n",
       "   text: \"Hello there! How can I help you today?\"\n",
       " }\n",
       " role: \"model\"]"
      ]
     },
     "execution_count": 12,
     "metadata": {},
     "output_type": "execute_result"
    }
   ],
   "source": [
    "model = genai.GenerativeModel('gemini-pro')\n",
    "chat = model.start_chat(history=[])\n",
    "\n",
    "response = chat.send_message(\"Hello\")\n",
    "print(response.text)\n",
    "\n",
    "#chat.history #will give history of conservations"
   ]
  },
  {
   "cell_type": "markdown",
   "metadata": {},
   "source": [
    "##### Chat Conservation with user input"
   ]
  },
  {
   "cell_type": "code",
   "execution_count": 13,
   "metadata": {},
   "outputs": [
    {
     "ename": "KeyboardInterrupt",
     "evalue": "Interrupted by user",
     "output_type": "error",
     "traceback": [
      "\u001b[1;31m---------------------------------------------------------------------------\u001b[0m",
      "\u001b[1;31mKeyboardInterrupt\u001b[0m                         Traceback (most recent call last)",
      "Cell \u001b[1;32mIn[13], line 5\u001b[0m\n\u001b[0;32m      2\u001b[0m chat \u001b[38;5;241m=\u001b[39m model\u001b[38;5;241m.\u001b[39mstart_chat(history\u001b[38;5;241m=\u001b[39m[])\n\u001b[0;32m      4\u001b[0m \u001b[38;5;28;01mwhile\u001b[39;00m \u001b[38;5;28;01mTrue\u001b[39;00m:\n\u001b[1;32m----> 5\u001b[0m     message \u001b[38;5;241m=\u001b[39m \u001b[38;5;28;43minput\u001b[39;49m\u001b[43m(\u001b[49m\u001b[38;5;124;43m\"\u001b[39;49m\u001b[38;5;124;43myou :\u001b[39;49m\u001b[38;5;124;43m\"\u001b[39;49m\u001b[43m)\u001b[49m\n\u001b[0;32m      6\u001b[0m     response \u001b[38;5;241m=\u001b[39m chat\u001b[38;5;241m.\u001b[39msend_message(message)\n\u001b[0;32m      7\u001b[0m     \u001b[38;5;28mprint\u001b[39m(\u001b[38;5;124m\"\u001b[39m\u001b[38;5;124mGemini :\u001b[39m\u001b[38;5;124m\"\u001b[39m\u001b[38;5;241m+\u001b[39m response\u001b[38;5;241m.\u001b[39mtext)\n",
      "File \u001b[1;32m~\\AppData\\Roaming\\Python\\Python312\\site-packages\\ipykernel\\kernelbase.py:1251\u001b[0m, in \u001b[0;36mKernel.raw_input\u001b[1;34m(self, prompt)\u001b[0m\n\u001b[0;32m   1249\u001b[0m     msg \u001b[38;5;241m=\u001b[39m \u001b[38;5;124m\"\u001b[39m\u001b[38;5;124mraw_input was called, but this frontend does not support input requests.\u001b[39m\u001b[38;5;124m\"\u001b[39m\n\u001b[0;32m   1250\u001b[0m     \u001b[38;5;28;01mraise\u001b[39;00m StdinNotImplementedError(msg)\n\u001b[1;32m-> 1251\u001b[0m \u001b[38;5;28;01mreturn\u001b[39;00m \u001b[38;5;28;43mself\u001b[39;49m\u001b[38;5;241;43m.\u001b[39;49m\u001b[43m_input_request\u001b[49m\u001b[43m(\u001b[49m\n\u001b[0;32m   1252\u001b[0m \u001b[43m    \u001b[49m\u001b[38;5;28;43mstr\u001b[39;49m\u001b[43m(\u001b[49m\u001b[43mprompt\u001b[49m\u001b[43m)\u001b[49m\u001b[43m,\u001b[49m\n\u001b[0;32m   1253\u001b[0m \u001b[43m    \u001b[49m\u001b[38;5;28;43mself\u001b[39;49m\u001b[38;5;241;43m.\u001b[39;49m\u001b[43m_parent_ident\u001b[49m\u001b[43m[\u001b[49m\u001b[38;5;124;43m\"\u001b[39;49m\u001b[38;5;124;43mshell\u001b[39;49m\u001b[38;5;124;43m\"\u001b[39;49m\u001b[43m]\u001b[49m\u001b[43m,\u001b[49m\n\u001b[0;32m   1254\u001b[0m \u001b[43m    \u001b[49m\u001b[38;5;28;43mself\u001b[39;49m\u001b[38;5;241;43m.\u001b[39;49m\u001b[43mget_parent\u001b[49m\u001b[43m(\u001b[49m\u001b[38;5;124;43m\"\u001b[39;49m\u001b[38;5;124;43mshell\u001b[39;49m\u001b[38;5;124;43m\"\u001b[39;49m\u001b[43m)\u001b[49m\u001b[43m,\u001b[49m\n\u001b[0;32m   1255\u001b[0m \u001b[43m    \u001b[49m\u001b[43mpassword\u001b[49m\u001b[38;5;241;43m=\u001b[39;49m\u001b[38;5;28;43;01mFalse\u001b[39;49;00m\u001b[43m,\u001b[49m\n\u001b[0;32m   1256\u001b[0m \u001b[43m\u001b[49m\u001b[43m)\u001b[49m\n",
      "File \u001b[1;32m~\\AppData\\Roaming\\Python\\Python312\\site-packages\\ipykernel\\kernelbase.py:1295\u001b[0m, in \u001b[0;36mKernel._input_request\u001b[1;34m(self, prompt, ident, parent, password)\u001b[0m\n\u001b[0;32m   1292\u001b[0m \u001b[38;5;28;01mexcept\u001b[39;00m \u001b[38;5;167;01mKeyboardInterrupt\u001b[39;00m:\n\u001b[0;32m   1293\u001b[0m     \u001b[38;5;66;03m# re-raise KeyboardInterrupt, to truncate traceback\u001b[39;00m\n\u001b[0;32m   1294\u001b[0m     msg \u001b[38;5;241m=\u001b[39m \u001b[38;5;124m\"\u001b[39m\u001b[38;5;124mInterrupted by user\u001b[39m\u001b[38;5;124m\"\u001b[39m\n\u001b[1;32m-> 1295\u001b[0m     \u001b[38;5;28;01mraise\u001b[39;00m \u001b[38;5;167;01mKeyboardInterrupt\u001b[39;00m(msg) \u001b[38;5;28;01mfrom\u001b[39;00m \u001b[38;5;28;01mNone\u001b[39;00m\n\u001b[0;32m   1296\u001b[0m \u001b[38;5;28;01mexcept\u001b[39;00m \u001b[38;5;167;01mException\u001b[39;00m:\n\u001b[0;32m   1297\u001b[0m     \u001b[38;5;28mself\u001b[39m\u001b[38;5;241m.\u001b[39mlog\u001b[38;5;241m.\u001b[39mwarning(\u001b[38;5;124m\"\u001b[39m\u001b[38;5;124mInvalid Message:\u001b[39m\u001b[38;5;124m\"\u001b[39m, exc_info\u001b[38;5;241m=\u001b[39m\u001b[38;5;28;01mTrue\u001b[39;00m)\n",
      "\u001b[1;31mKeyboardInterrupt\u001b[0m: Interrupted by user"
     ]
    }
   ],
   "source": [
    "model = genai.GenerativeModel('gemini-pro')\n",
    "chat = model.start_chat(history=[])\n",
    "\n",
    "while True:\n",
    "    message = input(\"you :\")\n",
    "    response = chat.send_message(message)\n",
    "    print(\"Gemini :\"+ response.text)"
   ]
  },
  {
   "cell_type": "markdown",
   "metadata": {},
   "source": [
    "##### Multi Turn Response"
   ]
  },
  {
   "cell_type": "code",
   "execution_count": 14,
   "metadata": {},
   "outputs": [
    {
     "data": {
      "text/markdown": [
       ">Imagine a magic box with a clever brain inside.\n",
       ">\n",
       ">* **Input:** You give the magic box instructions through a keyboard or mouse. It's like talking to a friend!\n",
       ">* **Brain:** Inside the box, the clever brain understands your instructions and thinks like a super smart person.\n",
       ">* **Memory:** It remembers all the things you tell it, like your favorite games and stories.\n",
       ">* **Output:** The magic box shows you the results of its thinking on a screen. It's like a window into the clever brain!\n",
       ">\n",
       ">So, the computer is like a clever friend who helps you do things, remembers stuff, and shows you the results. Just like when you play a game with a friend!"
      ],
      "text/plain": [
       "<IPython.core.display.Markdown object>"
      ]
     },
     "execution_count": 14,
     "metadata": {},
     "output_type": "execute_result"
    }
   ],
   "source": [
    "model = genai.GenerativeModel('gemini-pro')\n",
    "\n",
    "messages = [\n",
    "    {'role':'user',\n",
    "     'parts': [\"Briefly explain how a computer works to a young child.\"]}\n",
    "]\n",
    "response = model.generate_content(messages)\n",
    "\n",
    "to_markdown(response.text)"
   ]
  },
  {
   "cell_type": "code",
   "execution_count": 15,
   "metadata": {},
   "outputs": [
    {
     "data": {
      "text/markdown": [
       ">**Input Devices:**\n",
       ">* Keyboard, mouse, scanner, microphone: These devices allow you to communicate with the computer and provide it with data.\n",
       ">\n",
       ">**Central Processing Unit (CPU):**\n",
       ">* The \"brain\" of the computer that executes instructions and performs calculations.\n",
       ">\n",
       ">**Memory:**\n",
       ">* **RAM (Random Access Memory):** Stores data and instructions that the CPU is currently working on.\n",
       ">* **ROM (Read-Only Memory):** Stores permanent instructions, such as the computer's startup routine.\n",
       ">\n",
       ">**Storage Devices:**\n",
       ">* Hard disk, solid-state drive, USB drive: Store large amounts of data, such as files, programs, and operating systems.\n",
       ">\n",
       ">**Output Devices:**\n",
       ">* Monitor, printer, speakers: Display or produce the results of the CPU's processing.\n",
       ">\n",
       ">**Operating System (OS):**\n",
       ">* Software that manages the computer's hardware and software resources. It acts as an intermediary between the user and the computer.\n",
       ">\n",
       ">**Software Applications:**\n",
       ">* Programs that perform specific tasks, such as word processing, web browsing, or playing games.\n",
       ">\n",
       ">**How a Computer Works:**\n",
       ">\n",
       ">1. **Input:** You enter data or instructions using input devices.\n",
       ">2. **Processing:** The CPU fetches the data and instructions from memory and executes them.\n",
       ">3. **Output:** The results of the processing are displayed or produced using output devices.\n",
       ">4. **Storage:** Data and programs are stored on storage devices for later use.\n",
       ">\n",
       ">**Example:**\n",
       ">\n",
       ">When you type a word in a word processor, the following happens:\n",
       ">\n",
       ">* Your keyboard sends the keystrokes to the computer.\n",
       ">* The CPU processes the keystrokes and stores the characters in RAM.\n",
       ">* The word processor software uses the characters in RAM to display the word on the screen.\n",
       ">* The word processor saves the document to a storage device so you can access it later.\n",
       ">\n",
       ">**Key Concepts:**\n",
       ">\n",
       ">* **Binary:** Computers store and process data using a binary system (0s and 1s).\n",
       ">* **Clock speed:** The speed at which the CPU executes instructions.\n",
       ">* **Data bus:** The pathway that transfers data between different components.\n",
       ">* **Software:** Instructions that tell the computer what to do.\n",
       ">* **Hardware:** The physical components of the computer."
      ],
      "text/plain": [
       "<IPython.core.display.Markdown object>"
      ]
     },
     "execution_count": 15,
     "metadata": {},
     "output_type": "execute_result"
    }
   ],
   "source": [
    "messages.append({'role':'model',\n",
    "                 'parts':[response.text]})\n",
    "\n",
    "messages.append({'role':'user',\n",
    "                 'parts':[\"Okay, how about a more detailed explanation to a high school student?\"]})\n",
    "\n",
    "response = model.generate_content(messages)\n",
    "\n",
    "to_markdown(response.text)"
   ]
  },
  {
   "cell_type": "code",
   "execution_count": null,
   "metadata": {},
   "outputs": [],
   "source": []
  }
 ],
 "metadata": {
  "kernelspec": {
   "display_name": "pythongenai",
   "language": "python",
   "name": "python3"
  },
  "language_info": {
   "codemirror_mode": {
    "name": "ipython",
    "version": 3
   },
   "file_extension": ".py",
   "mimetype": "text/x-python",
   "name": "python",
   "nbconvert_exporter": "python",
   "pygments_lexer": "ipython3",
   "version": "3.12.0"
  }
 },
 "nbformat": 4,
 "nbformat_minor": 2
}
